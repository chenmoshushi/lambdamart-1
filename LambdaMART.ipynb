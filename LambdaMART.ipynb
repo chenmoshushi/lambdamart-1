{
 "cells": [
  {
   "cell_type": "code",
   "execution_count": 1,
   "metadata": {
    "collapsed": false
   },
   "outputs": [
    {
     "name": "stdout",
     "output_type": "stream",
     "text": [
      "Populating the interactive namespace from numpy and matplotlib\n"
     ]
    }
   ],
   "source": [
    "%pylab inline\n",
    "\n",
    "import numpy as np\n",
    "from sklearn.tree import DecisionTreeRegressor\n",
    "from sklearn.ensemble import GradientBoostingRegressor\n",
    "from copy import deepcopy\n",
    "from collections import defaultdict\n",
    "import matplotlib as plt\n",
    "\n",
    "import warnings\n",
    "warnings.filterwarnings('ignore')"
   ]
  },
  {
   "cell_type": "code",
   "execution_count": 2,
   "metadata": {
    "collapsed": true
   },
   "outputs": [],
   "source": [
    "results_buf1 = []\n",
    "results_buf2 = []"
   ]
  },
  {
   "cell_type": "code",
   "execution_count": 3,
   "metadata": {
    "collapsed": false
   },
   "outputs": [],
   "source": [
    "def get_dict_by_qid(qids, pred_y):\n",
    "    \"\"\"\n",
    "        Возвращает словарь, в котором по qid можно получить список индексов. \n",
    "        Каждый индекс соответствует месту элемента с этим индексом в поисковой выдаче для данного qid.\n",
    "    \"\"\"\n",
    "    # Найдём для каждого из запросов порядок поисковой выдачи\n",
    "    unique_qids = np.unique(qids)\n",
    "    id_y = defaultdict(np.array)\n",
    "    n_elems = pred_y.shape[0]\n",
    "    for qid in unique_qids:\n",
    "        # Индексы тех элементов, у которых запрос равен qid\n",
    "        ids_for_qid = np.arange(n_elems)[qids==qid]\n",
    "        # Тот же pred_y, только, у которого элементы с неравным qid будут равны 0\n",
    "        buf = np.zeros(n_elems)\n",
    "        for idx in ids_for_qid:\n",
    "            buf[idx] = pred_y[idx]\n",
    "        id_y[qid] = np.argsort(np.argsort(buf)[::-1])\n",
    "    return id_y\n",
    "\n",
    "\n",
    "def ndcgl(pred_y, y, qids, L=10):\n",
    "    \"\"\"\n",
    "        pred_y : предсказанные значения функции ранжирования\n",
    "        y : метки релевантности\n",
    "        qids : id запросов, для каждого элемента\n",
    "    \"\"\"\n",
    "    id_y = get_dict_by_qid(qids, pred_y)\n",
    "    buf = 0.\n",
    "    for qid in np.unique(qids):\n",
    "        dcgl = 0.\n",
    "        idcgl = 0.\n",
    "        # Отсортируем значения по убыванию функции ранжирования\n",
    "        #idx = np.argsort(y_pred)[::-1]\n",
    "        idx = id_y[qid]\n",
    "        # Метки релевантности для отсортированного массива y_pred\n",
    "        #l = y[idx]\n",
    "        for i in xrange(L):\n",
    "            #if qids[i] == qid:\n",
    "            # Метка релевантности для данного элемента\n",
    "            l = y[idx == i][0]\n",
    "            dcgl += (2. ** l - 1) / np.log2(i + 2)\n",
    "            idcgl += 1 / np.log2(i + 2)\n",
    "        buf += dcgl / idcgl\n",
    "    return buf / len(np.unique(qids))"
   ]
  },
  {
   "cell_type": "code",
   "execution_count": 4,
   "metadata": {
    "collapsed": false
   },
   "outputs": [],
   "source": [
    "class LambdaMART:\n",
    "    def __init__(self, n_estimators, base_estimator=DecisionTreeRegressor(), step_estimator=DecisionTreeRegressor(),\n",
    "                 alpha=1., beta=1., adaptive_step=True, feature_subset=False, feature_fraction=1., stochastic=False):\n",
    "        \"\"\"\n",
    "            n_estimators : число деревьев в обучении\n",
    "            base_estimator : выбор модели для каждой итерации\n",
    "            step_estimator : выбор модели для предсказания темпа обучения\n",
    "            alpha : коэффициент регуляризации XGBoost\n",
    "            beta : коэффициент при предсказании темпа обучения\n",
    "            adaptive_step : использовать адаптивный шаг бустинга или нет\n",
    "            feature_subset : использовать случайный набор признаков или нет\n",
    "        \"\"\"\n",
    "        self.estimators = []\n",
    "        self.step_estimators = []\n",
    "        self.feature_idx = []\n",
    "        self.n_estimators = n_estimators\n",
    "        self.base_estimator = base_estimator\n",
    "        self.step_estimator = step_estimator\n",
    "        self.alpha = alpha\n",
    "        self.beta = beta\n",
    "        self.adaptive_step = adaptive_step\n",
    "        self.feature_subset = feature_subset\n",
    "        self.feature_fraction = feature_fraction\n",
    "        self.stochastic = stochastic\n",
    "        \n",
    "    def fit(self, X_train, y_train, qids_train, queries_train, X_test, y_test, qids_test, queries_test, verbose=False):\n",
    "        \"\"\"\n",
    "            X : признаки пар запрос-документ\n",
    "            y : метки релевантности\n",
    "            qids : id запросов\n",
    "            queries : признаки запросов\n",
    "        \"\"\"\n",
    "        X = X_train\n",
    "        y = y_train\n",
    "        qids = qids_train\n",
    "        queries = queries_train\n",
    "        self.estimators = []\n",
    "        self.step_estimators = []\n",
    "        # Препроцессинг для ускорения подсчитывания градиента\n",
    "        # id_y = np.argsort(np.argsort(y_train)[::-1])\n",
    "        for i in xrange(self.n_estimators):\n",
    "            predicted = self.predict(X_train, qids_train, queries_train, verbose)\n",
    "            y_pred = self.predict(X_test, qids_test, queries_test)\n",
    "            train_result = ndcgl(predicted, y_train, qids_train)\n",
    "            test_result = ndcgl(y_pred, y_test, qids_test)\n",
    "            print \"Iteration {}, train_result {}, test_result {}\".format(i, train_result, test_result)\n",
    "            if self.feature_subset:\n",
    "                results_buf1.append((i, train_result, test_result))\n",
    "            else:\n",
    "                results_buf2.append((i, train_result, test_result))\n",
    "                #print \"Iteration \", i, \"train_result\", ndcgl(predicted) \"\" test_result \", \n",
    "            sub_idx = []\n",
    "            if self.stochastic:\n",
    "                # Выбираем подвыборку элементов\n",
    "                sub_idx = np.random.choice(np.arange(X_train.shape[0]), int(0.6 * X_train.shape[0]), replace=False)\n",
    "                #grad, h = self.loss_grad(predicted[sub_idx], y_train[sub_idx], id_y[sub_idx])\n",
    "                grad, h = self.loss_grad(predicted[sub_idx], y_train[sub_idx], qids[sub_idx])\n",
    "                X = X_train[sub_idx]\n",
    "                y = y_train[sub_idx]\n",
    "                qids = qids_train[sub_idx]\n",
    "                queries = queries_train[sub_idx]\n",
    "            else:\n",
    "                #grad, h = self.loss_grad(predicted, y, id_y)\n",
    "                grad, h = self.loss_grad(predicted, y, qids)\n",
    "            if verbose:\n",
    "                print \"Grad:\"\n",
    "                print grad\n",
    "                print \"H:\"\n",
    "                print h\n",
    "            estimator = deepcopy(self.base_estimator)\n",
    "            if self.feature_subset:\n",
    "                # Список индексов фичей\n",
    "                feature_idx = np.random.choice(np.arange(X.shape[1]), int(self.feature_fraction * X.shape[1]), replace=False)\n",
    "                self.feature_idx.append(feature_idx)\n",
    "                estimator.fit(X.T[feature_idx].T, -grad/ (self.alpha + h))\n",
    "            else:\n",
    "                estimator.fit(X, -grad/ (self.alpha + h))\n",
    "            self.estimators.append(estimator)\n",
    "            if verbose:\n",
    "                print \"Predict:\"\n",
    "                print predicted\n",
    "            # Обучим предсказатель шага\n",
    "            if self.adaptive_step:\n",
    "                step_estimator = deepcopy(self.step_estimator)\n",
    "                # Список всех запросов(уникальных)\n",
    "                qs = np.unique(qids)\n",
    "                # Список значений того, что нужно предсказывать\n",
    "                pred_values = np.zeros(len(qs))\n",
    "                q_list = np.zeros((len(qs), queries.shape[1]))\n",
    "                for idx, q in enumerate(qs):\n",
    "                    # Суммируем значения по всем элементам с данным запросом q\n",
    "                    pred_values[idx] = 0.\n",
    "                    for j in xrange(X.shape[0]):\n",
    "                        if qids[j] == q:\n",
    "                            q_list[idx] = queries[j]\n",
    "                            pred_values[idx] += 1. / (1. + self.beta * h[j])            \n",
    "                    #q_list[idx] = q_dict[q]\n",
    "                sum_pred_values = np.sum(pred_values)\n",
    "                step_estimator.fit(q_list, pred_values * len(qs) / sum_pred_values)\n",
    "                self.step_estimators.append(step_estimator)\n",
    "        return self\n",
    "            \n",
    "    def predict(self, X, qids, queries, verbose=False):\n",
    "        y_pred = np.zeros(X.shape[0])\n",
    "        for est_i, estimator in enumerate(self.estimators):\n",
    "            if self.feature_subset:\n",
    "                feature_idx = self.feature_idx[est_i]\n",
    "                est_result = estimator.predict(X.T[feature_idx].T)\n",
    "            else:\n",
    "                est_result = estimator.predict(X)\n",
    "            for i in xrange(X.shape[0]):\n",
    "                step = 1. / (i + 1.)\n",
    "                if self.adaptive_step:\n",
    "                    step = self.step_estimators[est_i].predict(queries[i].reshape(1,-1)[0])\n",
    "                if verbose:\n",
    "                    print \"Step: \", step, \" for qid=\", qids[i]\n",
    "                y_pred[i] += est_result[i] * step\n",
    "        return y_pred\n",
    "    \n",
    "    def loss_grad(self, pred_y, y, qids):\n",
    "        n_elems = y.shape[0]\n",
    "        grad = np.zeros(n_elems)\n",
    "        h = np.zeros(n_elems)\n",
    "        # id_y - индексы в массиве pred_y, отсортированные по убыванию ранжирующей функции \n",
    "        #id_y = np.argsort(np.argsort(y)[::-1])\n",
    "        # Найдём для каждого из запросов порядок поисковой выдачи\n",
    "        id_y = get_dict_by_qid(qids, pred_y)\n",
    "        for i in xrange(n_elems):\n",
    "            for j in xrange(n_elems):\n",
    "                if qids[i] == qids[j]:\n",
    "                    buf = 0.\n",
    "                    delta_ndcg = np.abs(self.ndcg_replace(y[i], y[j], id_y[qids[i]][i], id_y[qids[j]][j]))\n",
    "                    if y[i] > y[j]:\n",
    "                        buf = -self.rho(pred_y[i], pred_y[j])\n",
    "                    if y[i] < y[j]:\n",
    "                        buf = self.rho(pred_y[j], pred_y[i])\n",
    "                    if buf != 0.:\n",
    "                        grad[i] += delta_ndcg * buf\n",
    "                    h[i] += delta_ndcg * self.rho(pred_y[i], pred_y[j]) * (1 - self.rho(pred_y[i], pred_y[j]))\n",
    "        return grad, h\n",
    "        \n",
    "    \"\"\"def double_grad(self, pred_y, y):\n",
    "        n_elems = y.shape[0]\n",
    "        h = np.zeros(n_elems)\n",
    "        # id_y - индексы в массиве pred_y, отсортированные по убыванию ранжирующей функции \n",
    "        id_y = np.argsort(np.argsort(y)[::-1])\n",
    "        for i in xrange(n_elems):\n",
    "            for j in xrange(n_elems):\n",
    "                delta_ndcg = np.abs(self.ndcg_replace(y[i], y[j], id_y[i], id_y[j]))\n",
    "                h[i] += delta_ndcg * self.rho(pred_y[i], pred_y[j]) * (1 - self.rho(pred_y[i], pred_y[j]))\n",
    "        return h\"\"\"\n",
    "    \n",
    "    def ndcg_replace(self, value_a, value_b, id_a, id_b):\n",
    "        return (2. ** value_b - 2. ** value_a) * (1./ np.log2(2 + id_a) - 1./ np.log2(2 + id_b))\n",
    "    \n",
    "    def rho(self, a, b):\n",
    "        return 1. / (1. + np.exp(a - b))"
   ]
  },
  {
   "cell_type": "markdown",
   "metadata": {},
   "source": [
    "Считаем часть датасета MQ2007"
   ]
  },
  {
   "cell_type": "code",
   "execution_count": 5,
   "metadata": {
    "collapsed": false
   },
   "outputs": [],
   "source": [
    "# Проверка на части датасета MQ2007\n",
    "fin = open('train.txt', 'r')\n",
    "\n",
    "num_elems = 10000\n",
    "X = np.zeros((num_elems, 46))\n",
    "y = np.zeros(num_elems)\n",
    "queries = np.zeros(num_elems)\n",
    "\n",
    "num = 0\n",
    "i = 0\n",
    "\n",
    "lines = fin.readlines()[:num_elems]\n",
    "\n",
    "for i, line in enumerate(lines):\n",
    "    parsed = line.split(' ')\n",
    "    y[i] = int(parsed[0])\n",
    "    queries[i] = int(parsed[1][4:])\n",
    "    for j in xrange(46):\n",
    "        if j < 9:\n",
    "            X[i][j] = float(parsed[j + 2][2:])\n",
    "        else:\n",
    "            X[i][j] = float(parsed[j + 2][3:])\n",
    "                \n",
    "# Нормализуем y\n",
    "y /= np.max(y)"
   ]
  },
  {
   "cell_type": "markdown",
   "metadata": {},
   "source": [
    "Генерируем признаки для запросов"
   ]
  },
  {
   "cell_type": "code",
   "execution_count": 6,
   "metadata": {
    "collapsed": false
   },
   "outputs": [],
   "source": [
    "from collections import defaultdict\n",
    "\n",
    "# Признаки для запросов\n",
    "query_d = 20 # Число признаков в запросе. \n",
    "q_dict = defaultdict(lambda : np.zeros(query_d)) # dictionary, который по id запроса возвращает его признаки\n",
    "\n",
    "unique_q, counts = np.unique(queries, return_counts=True)\n",
    "for i,q in enumerate(unique_q):\n",
    "    for j in xrange(X.shape[0]):\n",
    "        if queries[j] == q:\n",
    "            q_dict[q] += X[j][11:31]/ counts[i]\n",
    "            #q_dict[q] += X[j][:40]/ counts[i]\n",
    "\n",
    "# Финальная матрица для запросов. По индексу получаем признаки запроса, соответствующие элементу из X с этим индексом\n",
    "q = np.zeros((num_elems, query_d))\n",
    "for i in xrange(num_elems):\n",
    "    q[i] = q_dict[queries[i]]"
   ]
  },
  {
   "cell_type": "code",
   "execution_count": 7,
   "metadata": {
    "collapsed": false
   },
   "outputs": [],
   "source": [
    "# Хорошее перемешивание\n",
    "unique_q = np.unique(queries)\n",
    "num_q = unique_q.shape[0]\n",
    "q_idx = np.random.permutation(num_q)\n",
    "Q_for_train = unique_q[q_idx][:num_q*3/4]\n",
    "Q_for_test = unique_q[q_idx][num_q*3/4:]\n",
    "\n",
    "train_idx = np.zeros(0, dtype=int32)\n",
    "test_idx = np.zeros(0, dtype=int32)\n",
    "\n",
    "for i, q_id in enumerate(queries):\n",
    "    if (Q_for_train == q_id).any():\n",
    "        train_idx = np.append(train_idx, int(i))\n",
    "    else:\n",
    "        test_idx = np.append(test_idx, int(i))\n",
    "\n",
    "X_train = X[train_idx]\n",
    "y_train = y[train_idx]\n",
    "q_train = queries[train_idx]\n",
    "queries_train = q[train_idx]\n",
    "\n",
    "X_test = X[test_idx]\n",
    "y_test = y[test_idx]\n",
    "q_test = queries[test_idx]\n",
    "queries_test = q[test_idx]"
   ]
  },
  {
   "cell_type": "markdown",
   "metadata": {},
   "source": [
    "### Результаты на 10000 элементах"
   ]
  },
  {
   "cell_type": "code",
   "execution_count": 9,
   "metadata": {
    "collapsed": false
   },
   "outputs": [
    {
     "name": "stdout",
     "output_type": "stream",
     "text": [
      "0.155186474972\n",
      "0.432043887205\n"
     ]
    }
   ],
   "source": [
    "clf_temp = DecisionTreeRegressor().fit(X_train, y_train)\n",
    "print ndcgl(clf_temp.predict(X_test), y_test, q_test)\n",
    "print ndcgl(clf_temp.predict(X_train), y_train, q_train)"
   ]
  },
  {
   "cell_type": "code",
   "execution_count": 8,
   "metadata": {
    "collapsed": false
   },
   "outputs": [
    {
     "name": "stdout",
     "output_type": "stream",
     "text": [
      "0.215823730827\n",
      "0.307199993247\n"
     ]
    }
   ],
   "source": [
    "clf_temp = GradientBoostingRegressor().fit(X_train, y_train)\n",
    "print ndcgl(clf_temp.predict(X_test), y_test, q_test)\n",
    "print ndcgl(clf_temp.predict(X_train), y_train, q_train)"
   ]
  },
  {
   "cell_type": "code",
   "execution_count": 10,
   "metadata": {
    "collapsed": false
   },
   "outputs": [],
   "source": [
    "n = 400\n",
    "clf2 = LambdaMART(n, alpha=0.5, beta=1., feature_subset=True, feature_fraction=0.3)\n",
    "clf1 = LambdaMART(n, alpha=0.5, beta=1.)\n",
    "results_buf1 = []\n",
    "results_buf2 = []"
   ]
  },
  {
   "cell_type": "code",
   "execution_count": 44,
   "metadata": {
    "collapsed": false,
    "scrolled": true
   },
   "outputs": [
    {
     "name": "stdout",
     "output_type": "stream",
     "text": [
      "Iteration 0, train_result 0.0783982689787, test_result 0.37424688276\n",
      "Iteration 1, train_result 0.42096213728, test_result 0.167110992641\n",
      "Iteration 2, train_result 0.445072875726, test_result 0.182851379234\n",
      "Iteration 3, train_result 0.445094466114, test_result 0.18400793999\n",
      "Iteration 4, train_result 0.445094466114, test_result 0.184792146723\n",
      "Iteration 5, train_result 0.445094466114, test_result 0.186931858531\n",
      "Iteration 6, train_result 0.445094466114, test_result 0.190313027066\n",
      "Iteration 7, train_result 0.445094466114, test_result 0.183425155313\n",
      "Iteration 8, train_result 0.445094466114, test_result 0.187854685173\n",
      "Iteration 9, train_result 0.445094466114, test_result 0.186507867096\n",
      "Iteration 10, train_result 0.443657706432, test_result 0.183089056008\n",
      "Iteration 11, train_result 0.443657706432, test_result 0.18614673592\n",
      "Iteration 12, train_result 0.443657706432, test_result 0.188247786563\n",
      "Iteration 13, train_result 0.443657706432, test_result 0.185881645544\n",
      "Iteration 14, train_result 0.443657706432, test_result 0.190768378842\n",
      "Iteration 15, train_result 0.444005361012, test_result 0.186629994319\n",
      "Iteration 16, train_result 0.444005361012, test_result 0.189765757905\n",
      "Iteration 17, train_result 0.444037112016, test_result 0.190991839463\n",
      "Iteration 18, train_result 0.444037112016, test_result 0.191255336836\n",
      "Iteration 19, train_result 0.444037112016, test_result 0.187888751061\n",
      "Iteration 20, train_result 0.444005361012, test_result 0.188211638261\n",
      "Iteration 21, train_result 0.444872215468, test_result 0.187378519487\n",
      "Iteration 22, train_result 0.445598579864, test_result 0.189768633023\n",
      "Iteration 23, train_result 0.446655933961, test_result 0.191107811884\n",
      "Iteration 24, train_result 0.446127790552, test_result 0.189375599216\n",
      "Iteration 25, train_result 0.44691824133, test_result 0.191318035456\n",
      "Iteration 26, train_result 0.446881324987, test_result 0.191346445651\n",
      "Iteration 27, train_result 0.447454405178, test_result 0.192327405008\n",
      "Iteration 28, train_result 0.449094387223, test_result 0.193437861315\n",
      "Iteration 29, train_result 0.449418014113, test_result 0.193405220677\n",
      "Iteration 30, train_result 0.450286659388, test_result 0.191816651096\n",
      "Iteration 31, train_result 0.449664904783, test_result 0.192694762989\n",
      "Iteration 32, train_result 0.451976280727, test_result 0.193115797702\n",
      "Iteration 33, train_result 0.451700093144, test_result 0.193411300828\n",
      "Iteration 34, train_result 0.45161423579, test_result 0.19316777901\n",
      "Iteration 35, train_result 0.453665517549, test_result 0.193895609044\n",
      "Iteration 36, train_result 0.454881474965, test_result 0.191968521108\n",
      "Iteration 37, train_result 0.455004435915, test_result 0.19642668982\n",
      "Iteration 38, train_result 0.455113010291, test_result 0.194905070828\n",
      "Iteration 39, train_result 0.456019485783, test_result 0.19605790155\n",
      "Iteration 40, train_result 0.456863000591, test_result 0.194414597694\n",
      "Iteration 41, train_result 0.456890510683, test_result 0.194864489463\n",
      "Iteration 42, train_result 0.45801857815, test_result 0.195050367483\n",
      "Iteration 43, train_result 0.458527594055, test_result 0.195498843726\n",
      "Iteration 44, train_result 0.459579330994, test_result 0.195488166577\n",
      "Iteration 45, train_result 0.459994082197, test_result 0.195702027528\n",
      "Iteration 46, train_result 0.458427938501, test_result 0.196232856286\n",
      "Iteration 47, train_result 0.457199099383, test_result 0.196617976894\n",
      "Iteration 48, train_result 0.457862124467, test_result 0.196739021936\n",
      "Iteration 49, train_result 0.458873295288, test_result 0.197691549889\n",
      "Iteration 50, train_result 0.458873295288, test_result 0.196965904105\n",
      "Iteration 51, train_result 0.459505482742, test_result 0.196282248911\n",
      "Iteration 52, train_result 0.459505482742, test_result 0.194879294062\n",
      "Iteration 53, train_result 0.459265554207, test_result 0.195984377765\n",
      "Iteration 54, train_result 0.459265554207, test_result 0.195751183561\n",
      "Iteration 55, train_result 0.459265554207, test_result 0.195858729243\n",
      "Iteration 56, train_result 0.459265554207, test_result 0.194794192455\n",
      "Iteration 57, train_result 0.459287044372, test_result 0.194668989986\n",
      "Iteration 58, train_result 0.459715450214, test_result 0.19423698026\n",
      "Iteration 59, train_result 0.459715450214, test_result 0.197089690199\n",
      "Iteration 60, train_result 0.459715450214, test_result 0.198530478507\n",
      "Iteration 61, train_result 0.459715450214, test_result 0.198438279003\n",
      "Iteration 62, train_result 0.459715450214, test_result 0.198331416866\n",
      "Iteration 63, train_result 0.459715450214, test_result 0.198539842981\n",
      "Iteration 64, train_result 0.459715450214, test_result 0.197942666572\n",
      "Iteration 65, train_result 0.459715450214, test_result 0.19849680711\n",
      "Iteration 66, train_result 0.459715450214, test_result 0.198211921082\n",
      "Iteration 67, train_result 0.459715450214, test_result 0.198103978851\n",
      "Iteration 68, train_result 0.459581363244, test_result 0.198358209782\n",
      "Iteration 69, train_result 0.459581363244, test_result 0.19973965446\n",
      "Iteration 70, train_result 0.459581363244, test_result 0.199171898561\n",
      "Iteration 71, train_result 0.459581363244, test_result 0.199717357624\n",
      "Iteration 72, train_result 0.459581363244, test_result 0.198800793287\n",
      "Iteration 73, train_result 0.459581363244, test_result 0.200299926319\n",
      "Iteration 74, train_result 0.459581363244, test_result 0.199606714884\n",
      "Iteration 75, train_result 0.459581363244, test_result 0.201105852209\n",
      "Iteration 76, train_result 0.459581363244, test_result 0.201053770266\n",
      "Iteration 77, train_result 0.459799535213, test_result 0.201027065713\n",
      "Iteration 78, train_result 0.459799535213, test_result 0.200640856114\n",
      "Iteration 79, train_result 0.459799535213, test_result 0.201089168958\n",
      "Iteration 80, train_result 0.459799535213, test_result 0.200671319188\n",
      "Iteration 81, train_result 0.459799535213, test_result 0.200675041274\n",
      "Iteration 82, train_result 0.459799535213, test_result 0.199675248603\n",
      "Iteration 83, train_result 0.459799535213, test_result 0.199526304743\n",
      "Iteration 84, train_result 0.459799535213, test_result 0.199535127253\n",
      "Iteration 85, train_result 0.459799535213, test_result 0.199535127253\n",
      "Iteration 86, train_result 0.459799535213, test_result 0.199500942093\n",
      "Iteration 87, train_result 0.459799535213, test_result 0.199120999569\n",
      "Iteration 88, train_result 0.459415023536, test_result 0.198654804683\n",
      "Iteration 89, train_result 0.459415023536, test_result 0.198970276712\n",
      "Iteration 90, train_result 0.459415023536, test_result 0.198934749649\n",
      "Iteration 91, train_result 0.459415023536, test_result 0.199009140732\n",
      "Iteration 92, train_result 0.459415023536, test_result 0.198997980887\n",
      "Iteration 93, train_result 0.459415023536, test_result 0.198782042788\n",
      "Iteration 94, train_result 0.459415023536, test_result 0.19901586293\n",
      "Iteration 95, train_result 0.459415023536, test_result 0.199032166047\n",
      "Iteration 96, train_result 0.458837166874, test_result 0.198582274278\n",
      "Iteration 97, train_result 0.458837166874, test_result 0.198548089118\n",
      "Iteration 98, train_result 0.458837166874, test_result 0.198997980887\n",
      "Iteration 99, train_result 0.458837166874, test_result 0.198592675714\n",
      "Iteration 100, train_result 0.458837166874, test_result 0.198133961434\n",
      "Iteration 101, train_result 0.459583723488, test_result 0.198142783945\n",
      "Iteration 102, train_result 0.45961123358, test_result 0.198142783945\n",
      "Iteration 103, train_result 0.45961123358, test_result 0.198142783945\n",
      "Iteration 104, train_result 0.459638743672, test_result 0.198549504644\n",
      "Iteration 105, train_result 0.459638743672, test_result 0.198262251367\n",
      "Iteration 106, train_result 0.459638743672, test_result 0.198151680077\n",
      "Iteration 107, train_result 0.459878672207, test_result 0.197437121617\n",
      "Iteration 108, train_result 0.459878672207, test_result 0.198505374385\n",
      "Iteration 109, train_result 0.459878672207, test_result 0.198229962099\n",
      "Iteration 110, train_result 0.459878672207, test_result 0.198229962099\n",
      "Iteration 111, train_result 0.459878672207, test_result 0.198271554244\n",
      "Iteration 112, train_result 0.459878672207, test_result 0.197862101729\n",
      "Iteration 113, train_result 0.459878672207, test_result 0.198063879871\n",
      "Iteration 114, train_result 0.460396641411, test_result 0.197779571453\n",
      "Iteration 115, train_result 0.460562476303, test_result 0.198609729665\n",
      "Iteration 116, train_result 0.460562476303, test_result 0.199069780405\n",
      "Iteration 117, train_result 0.460562476303, test_result 0.198572275727\n",
      "Iteration 118, train_result 0.459392619941, test_result 0.198616372589\n",
      "Iteration 119, train_result 0.459392619941, test_result 0.198486191962\n",
      "Iteration 120, train_result 0.459392619941, test_result 0.1987160527\n",
      "Iteration 121, train_result 0.459392619941, test_result 0.198707156567\n",
      "Iteration 122, train_result 0.459917892209, test_result 0.198486191962\n",
      "Iteration 123, train_result 0.459917892209, test_result 0.198031168686\n",
      "Iteration 124, train_result 0.459917892209, test_result 0.198075755282\n",
      "Iteration 125, train_result 0.460081654442, test_result 0.19800959564\n",
      "Iteration 126, train_result 0.460081654442, test_result 0.198463178413\n",
      "Iteration 127, train_result 0.460081654442, test_result 0.19759915896\n",
      "Iteration 128, train_result 0.460081654442, test_result 0.19759915896\n",
      "Iteration 129, train_result 0.460299826411, test_result 0.197651226162\n",
      "Iteration 130, train_result 0.460299826411, test_result 0.197219216436\n",
      "Iteration 131, train_result 0.460299826411, test_result 0.19759915896\n",
      "Iteration 132, train_result 0.460299826411, test_result 0.197201334393\n",
      "Iteration 133, train_result 0.460299826411, test_result 0.197167149233\n",
      "Iteration 134, train_result 0.460299826411, test_result 0.197201334393\n",
      "Iteration 135, train_result 0.460299826411, test_result 0.197201334393\n",
      "Iteration 136, train_result 0.460299826411, test_result 0.197219216436\n",
      "Iteration 137, train_result 0.460299826411, test_result 0.19805787324\n",
      "Iteration 138, train_result 0.460299826411, test_result 0.198083235889\n",
      "Iteration 139, train_result 0.460299826411, test_result 0.19912619963\n",
      "Iteration 140, train_result 0.460299826411, test_result 0.199135022141\n",
      "Iteration 141, train_result 0.460299826411, test_result 0.199108317587\n",
      "Iteration 142, train_result 0.460299826411, test_result 0.199108317587\n",
      "Iteration 143, train_result 0.460299826411, test_result 0.199108317587\n",
      "Iteration 144, train_result 0.460299826411, test_result 0.199108317587\n",
      "Iteration 145, train_result 0.460299826411, test_result 0.199100836981\n",
      "Iteration 146, train_result 0.460299826411, test_result 0.19917819321\n",
      "Iteration 147, train_result 0.460299826411, test_result 0.198711998324\n",
      "Iteration 148, train_result 0.460299826411, test_result 0.198746183484\n",
      "Iteration 149, train_result 0.460299826411, test_result 0.198335746804\n",
      "Iteration 150, train_result 0.460299826411, test_result 0.198708417542\n",
      "Iteration 151, train_result 0.460299826411, test_result 0.199199766257\n",
      "Iteration 152, train_result 0.460299826411, test_result 0.199199766257\n",
      "Iteration 153, train_result 0.460299826411, test_result 0.198156802516\n",
      "Iteration 154, train_result 0.459820708019, test_result 0.198156802516\n",
      "Iteration 155, train_result 0.459820708019, test_result 0.198156802516\n",
      "Iteration 156, train_result 0.459820708019, test_result 0.197961126938\n",
      "Iteration 157, train_result 0.459820708019, test_result 0.197961126938\n",
      "Iteration 158, train_result 0.459820708019, test_result 0.197917955868\n",
      "Iteration 159, train_result 0.459820708019, test_result 0.197917955868\n",
      "Iteration 160, train_result 0.459820708019, test_result 0.197477123631\n",
      "Iteration 161, train_result 0.459820708019, test_result 0.197485946142\n",
      "Iteration 162, train_result 0.459820708019, test_result 0.197874948198\n",
      "Iteration 163, train_result 0.459820708019, test_result 0.197891251315\n",
      "Iteration 164, train_result 0.459820708019, test_result 0.197902866283\n",
      "Iteration 165, train_result 0.459820708019, test_result 0.197954933485\n",
      "Iteration 166, train_result 0.459820708019, test_result 0.198580044778\n",
      "Iteration 167, train_result 0.459820708019, test_result 0.199029936547\n",
      "Iteration 168, train_result 0.459820708019, test_result 0.199029936547\n",
      "Iteration 169, train_result 0.459820708019, test_result 0.197986972806\n",
      "Iteration 170, train_result 0.459820708019, test_result 0.19779387124\n",
      "Iteration 171, train_result 0.459820708019, test_result 0.19779387124\n",
      "Iteration 172, train_result 0.459820708019, test_result 0.197710494247\n",
      "Iteration 173, train_result 0.459820708019, test_result 0.197710494247\n",
      "Iteration 174, train_result 0.459820708019, test_result 0.197296366563\n",
      "Iteration 175, train_result 0.459820708019, test_result 0.197250566435\n",
      "Iteration 176, train_result 0.459820708019, test_result 0.197316061386\n",
      "Iteration 177, train_result 0.459820708019, test_result 0.196884051659\n",
      "Iteration 178, train_result 0.459820708019, test_result 0.196948522154\n",
      "Iteration 179, train_result 0.459820708019, test_result 0.196802003341\n",
      "Iteration 180, train_result 0.459820708019, test_result 0.195801953967\n",
      "Iteration 181, train_result 0.459820708019, test_result 0.195801953967\n",
      "Iteration 182, train_result 0.459820708019, test_result 0.197020137231\n",
      "Iteration 183, train_result 0.459820708019, test_result 0.197020137231\n",
      "Iteration 184, train_result 0.459820708019, test_result 0.197020137231\n",
      "Iteration 185, train_result 0.459820708019, test_result 0.197038019274\n",
      "Iteration 186, train_result 0.459820708019, test_result 0.198080983015\n",
      "Iteration 187, train_result 0.459820708019, test_result 0.198144665185\n",
      "Iteration 188, train_result 0.459820708019, test_result 0.197083819402\n",
      "Iteration 189, train_result 0.459820708019, test_result 0.197499526011\n",
      "Iteration 190, train_result 0.459820708019, test_result 0.197515829128\n",
      "Iteration 191, train_result 0.459820708019, test_result 0.197481643968\n",
      "Iteration 192, train_result 0.459820708019, test_result 0.197481643968\n",
      "Iteration 193, train_result 0.459820708019, test_result 0.197508348522\n",
      "Iteration 194, train_result 0.459820708019, test_result 0.197508348522\n",
      "Iteration 195, train_result 0.459820708019, test_result 0.197490466479\n",
      "Iteration 196, train_result 0.459820708019, test_result 0.197490466479\n",
      "Iteration 197, train_result 0.459820708019, test_result 0.197567366372\n",
      "Iteration 198, train_result 0.459820708019, test_result 0.197594070925\n",
      "Iteration 199, train_result 0.459820708019, test_result 0.197594070925\n",
      "Wall time: 4h 52min 24s\n"
     ]
    }
   ],
   "source": [
    "%time clf2 = clf2.fit(X_train, y_train, q_train, queries_train, X_test, y_test, q_test, queries_test)"
   ]
  },
  {
   "cell_type": "code",
   "execution_count": 11,
   "metadata": {
    "collapsed": false
   },
   "outputs": [
    {
     "name": "stdout",
     "output_type": "stream",
     "text": [
      "Iteration 0, train_result 0.0575187075567, test_result 0.0\n",
      "Iteration 1, train_result 0.412304768093, test_result 0.145115627204\n",
      "Iteration 2, train_result 0.421008818461, test_result 0.156843561133\n",
      "Iteration 3, train_result 0.42136294864, test_result 0.150048394382\n",
      "Iteration 4, train_result 0.421471283526, test_result 0.151543081687\n",
      "Iteration 5, train_result 0.421471283526, test_result 0.160954537966\n",
      "Iteration 6, train_result 0.421305227069, test_result 0.15883096458\n",
      "Iteration 7, train_result 0.421305227069, test_result 0.163381553307\n",
      "Iteration 8, train_result 0.421305227069, test_result 0.165640210481\n",
      "Iteration 9, train_result 0.421305227069, test_result 0.170145311329\n",
      "Iteration 10, train_result 0.421305227069, test_result 0.17263287084\n",
      "Iteration 11, train_result 0.421305227069, test_result 0.170039048498\n",
      "Iteration 12, train_result 0.421471283526, test_result 0.171257269129\n",
      "Iteration 13, train_result 0.421471283526, test_result 0.172916894992\n",
      "Iteration 14, train_result 0.421628438464, test_result 0.171395186487\n",
      "Iteration 15, train_result 0.421628438464, test_result 0.171284789325\n",
      "Iteration 16, train_result 0.421674368333, test_result 0.171557195416\n",
      "Iteration 17, train_result 0.421674368333, test_result 0.169009752173\n",
      "Iteration 18, train_result 0.421674368333, test_result 0.168736042709\n",
      "Iteration 19, train_result 0.421674368333, test_result 0.167803444581\n",
      "Iteration 20, train_result 0.421674368333, test_result 0.168922649006\n",
      "Iteration 21, train_result 0.421674368333, test_result 0.169629952627\n",
      "Iteration 22, train_result 0.421674368333, test_result 0.169751338693\n",
      "Iteration 23, train_result 0.421517213394, test_result 0.1697949066\n",
      "Iteration 24, train_result 0.421517213394, test_result 0.170836977949\n",
      "Iteration 25, train_result 0.421517213394, test_result 0.170650539622\n",
      "Iteration 26, train_result 0.421517213394, test_result 0.171647297823\n",
      "Iteration 27, train_result 0.421694664904, test_result 0.171367483981\n",
      "Iteration 28, train_result 0.421694664904, test_result 0.170797786023\n",
      "Iteration 29, train_result 0.421694664904, test_result 0.170781945603\n",
      "Iteration 30, train_result 0.421694664904, test_result 0.172046275944\n",
      "Iteration 31, train_result 0.421694664904, test_result 0.172828476142\n",
      "Iteration 32, train_result 0.421838668146, test_result 0.173010902307\n",
      "Iteration 33, train_result 0.421661216636, test_result 0.172637500512\n",
      "Iteration 34, train_result 0.421661216636, test_result 0.171903081574\n",
      "Iteration 35, train_result 0.422370916154, test_result 0.171553644967\n",
      "Iteration 36, train_result 0.422206678677, test_result 0.171961233553\n",
      "Iteration 37, train_result 0.422206678677, test_result 0.171864501284\n",
      "Iteration 38, train_result 0.422294315454, test_result 0.17073228193\n",
      "Iteration 39, train_result 0.422500185369, test_result 0.172274063017\n",
      "Iteration 40, train_result 0.42298629082, test_result 0.172680100399\n",
      "Iteration 41, train_result 0.42298629082, test_result 0.173050006881\n",
      "Iteration 42, train_result 0.42298629082, test_result 0.173417245445\n",
      "Iteration 43, train_result 0.422606885236, test_result 0.172649540844\n",
      "Iteration 44, train_result 0.422456921313, test_result 0.172233545384\n",
      "Iteration 45, train_result 0.422804575893, test_result 0.172805090885\n",
      "Iteration 46, train_result 0.422889577333, test_result 0.172909194209\n",
      "Iteration 47, train_result 0.422889577333, test_result 0.172827396141\n",
      "Iteration 48, train_result 0.423199637031, test_result 0.172729528811\n",
      "Iteration 49, train_result 0.423199637031, test_result 0.173487001638\n",
      "Iteration 50, train_result 0.423199637031, test_result 0.173114493143\n",
      "Iteration 51, train_result 0.423199637031, test_result 0.172670008594\n",
      "Iteration 52, train_result 0.423055633789, test_result 0.172166569295\n",
      "Iteration 53, train_result 0.423055633789, test_result 0.172139864742\n",
      "Iteration 54, train_result 0.423055633789, test_result 0.172148687252\n",
      "Iteration 55, train_result 0.423055633789, test_result 0.172464243947\n",
      "Iteration 56, train_result 0.423055633789, test_result 0.172138924061\n",
      "Iteration 57, train_result 0.423055633789, test_result 0.172590628611\n",
      "Iteration 58, train_result 0.423055633789, test_result 0.171726609158\n",
      "Iteration 59, train_result 0.423070900498, test_result 0.172436306432\n",
      "Iteration 60, train_result 0.423070900498, test_result 0.172362666183\n",
      "Iteration 61, train_result 0.423070900498, test_result 0.172748875781\n",
      "Iteration 62, train_result 0.423385210376, test_result 0.173180885508\n",
      "Iteration 63, train_result 0.423385210376, test_result 0.173199555875\n",
      "Iteration 64, train_result 0.423743763487, test_result 0.173165370715\n",
      "Iteration 65, train_result 0.423743763487, test_result 0.173293824047\n",
      "Iteration 66, train_result 0.423743763487, test_result 0.17214725586\n",
      "Iteration 67, train_result 0.423743763487, test_result 0.172547955796\n",
      "Iteration 68, train_result 0.423936481706, test_result 0.17296992948\n",
      "Iteration 69, train_result 0.423936481706, test_result 0.172647402051\n",
      "Iteration 70, train_result 0.423936481706, test_result 0.172536830762\n",
      "Iteration 71, train_result 0.423599760245, test_result 0.172999349384\n",
      "Iteration 72, train_result 0.423995170453, test_result 0.17353927419\n",
      "Iteration 73, train_result 0.423995170453, test_result 0.173955992685\n",
      "Iteration 74, train_result 0.423995170453, test_result 0.173955992685\n",
      "Iteration 75, train_result 0.424244255138, test_result 0.173955992685\n",
      "Iteration 76, train_result 0.424244255138, test_result 0.174255272709\n",
      "Iteration 77, train_result 0.424035665949, test_result 0.173832085493\n",
      "Iteration 78, train_result 0.424035665949, test_result 0.173938775334\n",
      "Iteration 79, train_result 0.424035665949, test_result 0.17391207078\n",
      "Iteration 80, train_result 0.424035665949, test_result 0.173431670116\n",
      "Iteration 81, train_result 0.424035665949, test_result 0.17254976862\n",
      "Iteration 82, train_result 0.424500928887, test_result 0.172681762028\n",
      "Iteration 83, train_result 0.424715478756, test_result 0.173220461595\n",
      "Iteration 84, train_result 0.424715478756, test_result 0.172661642861\n",
      "Iteration 85, train_result 0.425129548642, test_result 0.17304785246\n",
      "Iteration 86, train_result 0.425129548642, test_result 0.174407209706\n",
      "Iteration 87, train_result 0.425164083457, test_result 0.173088522131\n",
      "Iteration 88, train_result 0.425413168142, test_result 0.17380735702\n",
      "Iteration 89, train_result 0.425098858264, test_result 0.172529687619\n",
      "Iteration 90, train_result 0.425098858264, test_result 0.172575487747\n",
      "Iteration 91, train_result 0.425098858264, test_result 0.172575487747\n",
      "Iteration 92, train_result 0.425098858264, test_result 0.172640982698\n",
      "Iteration 93, train_result 0.425264914721, test_result 0.172575487747\n",
      "Iteration 94, train_result 0.425264914721, test_result 0.172727727482\n",
      "Iteration 95, train_result 0.425098858264, test_result 0.172003944785\n",
      "Iteration 96, train_result 0.425098858264, test_result 0.171306547256\n",
      "Iteration 97, train_result 0.425313408134, test_result 0.171306547256\n",
      "Iteration 98, train_result 0.425692943204, test_result 0.170217783388\n",
      "Iteration 99, train_result 0.425692943204, test_result 0.170273541594\n",
      "Iteration 100, train_result 0.425692943204, test_result 0.170239356435\n",
      "Iteration 101, train_result 0.425378633326, test_result 0.170273541594\n",
      "Iteration 102, train_result 0.425378633326, test_result 0.170462169289\n",
      "Iteration 103, train_result 0.425400464977, test_result 0.170462169289\n",
      "Iteration 104, train_result 0.425590398088, test_result 0.170462169289\n",
      "Iteration 105, train_result 0.425590398088, test_result 0.170462169289\n",
      "Iteration 106, train_result 0.425117944134, test_result 0.170488873842\n",
      "Iteration 107, train_result 0.425134036667, test_result 0.170463584815\n",
      "Iteration 108, train_result 0.425134036667, test_result 0.170463584815\n",
      "Iteration 109, train_result 0.425134036667, test_result 0.170352289736\n",
      "Iteration 110, train_result 0.42481972679, test_result 0.170390609257\n",
      "Iteration 111, train_result 0.424653670334, test_result 0.170356424097\n",
      "Iteration 112, train_result 0.424862259522, test_result 0.170095253568\n",
      "Iteration 113, train_result 0.424862259522, test_result 0.170113135611\n",
      "Iteration 114, train_result 0.424862259522, test_result 0.170532518484\n",
      "Iteration 115, train_result 0.425019414461, test_result 0.170532518484\n",
      "Iteration 116, train_result 0.425019414461, test_result 0.170489320369\n",
      "Iteration 117, train_result 0.424396996584, test_result 0.169822608148\n",
      "Iteration 118, train_result 0.424207063473, test_result 0.169822608148\n",
      "Iteration 119, train_result 0.424207063473, test_result 0.169822608148\n",
      "Iteration 120, train_result 0.424272288666, test_result 0.169822608148\n",
      "Iteration 121, train_result 0.424272288666, test_result 0.169788422988\n",
      "Iteration 122, train_result 0.424272288666, test_result 0.169891474719\n",
      "Iteration 123, train_result 0.424272288666, test_result 0.170049593517\n",
      "Iteration 124, train_result 0.424057738797, test_result 0.169891474719\n",
      "Iteration 125, train_result 0.424057738797, test_result 0.170049593517\n",
      "Iteration 126, train_result 0.424250457016, test_result 0.170115088468\n",
      "Iteration 127, train_result 0.424250457016, test_result 0.170675991668\n",
      "Iteration 128, train_result 0.424250457016, test_result 0.170675991668\n",
      "Iteration 129, train_result 0.424235190306, test_result 0.171286945683\n",
      "Iteration 130, train_result 0.424235190306, test_result 0.171286945683\n",
      "Iteration 131, train_result 0.424235190306, test_result 0.171482621261\n",
      "Iteration 132, train_result 0.424235190306, test_result 0.170837053913\n",
      "Iteration 133, train_result 0.424235190306, test_result 0.171486312265\n",
      "Iteration 134, train_result 0.424235190306, test_result 0.171936204034\n",
      "Iteration 135, train_result 0.424235190306, test_result 0.171936204034\n",
      "Iteration 136, train_result 0.424211022079, test_result 0.171936204034\n",
      "Iteration 137, train_result 0.424042472087, test_result 0.172001698985\n",
      "Iteration 138, train_result 0.424042472087, test_result 0.172467893872\n",
      "Iteration 139, train_result 0.424042472087, test_result 0.173238571393\n",
      "Iteration 140, train_result 0.424042472087, test_result 0.173692154166\n",
      "Iteration 141, train_result 0.424042472087, test_result 0.174075818776\n",
      "Iteration 142, train_result 0.424042472087, test_result 0.173661691092\n",
      "Iteration 143, train_result 0.424235190306, test_result 0.173636328443\n",
      "Iteration 144, train_result 0.424392345245, test_result 0.173654210485\n",
      "Iteration 145, train_result 0.424392345245, test_result 0.173654210485\n",
      "Iteration 146, train_result 0.424392345245, test_result 0.173654210485\n",
      "Iteration 147, train_result 0.424542309168, test_result 0.173654210485\n",
      "Iteration 148, train_result 0.424327120052, test_result 0.173654210485\n",
      "Iteration 149, train_result 0.424319929037, test_result 0.17424433901\n",
      "Iteration 150, train_result 0.42446989296, test_result 0.17424433901\n",
      "Iteration 151, train_result 0.42446989296, test_result 0.174672767956\n",
      "Iteration 152, train_result 0.42446989296, test_result 0.174672767956\n",
      "Iteration 153, train_result 0.424319929037, test_result 0.174699472509\n",
      "Iteration 154, train_result 0.424319929037, test_result 0.174699472509\n",
      "Iteration 155, train_result 0.424319929037, test_result 0.174763154679\n",
      "Iteration 156, train_result 0.424319929037, test_result 0.174763154679\n",
      "Iteration 157, train_result 0.424319929037, test_result 0.174763154679\n",
      "Iteration 158, train_result 0.424319929037, test_result 0.174763154679\n",
      "Iteration 159, train_result 0.424319929037, test_result 0.174763154679\n",
      "Iteration 160, train_result 0.424319929037, test_result 0.174763154679\n",
      "Iteration 161, train_result 0.42446989296, test_result 0.174763154679\n",
      "Iteration 162, train_result 0.424319929037, test_result 0.17465258339\n",
      "Iteration 163, train_result 0.42446989296, test_result 0.174763154679\n",
      "Iteration 164, train_result 0.42446989296, test_result 0.175084593116\n",
      "Iteration 165, train_result 0.424155583082, test_result 0.175057888563\n",
      "Iteration 166, train_result 0.424155583082, test_result 0.174975358286\n",
      "Iteration 167, train_result 0.424155583082, test_result 0.174975358286\n",
      "Iteration 168, train_result 0.424155583082, test_result 0.174953785239\n",
      "Iteration 169, train_result 0.424897033604, test_result 0.174964765838\n",
      "Iteration 170, train_result 0.424897033604, test_result 0.174925631886\n",
      "Iteration 171, train_result 0.424897033604, test_result 0.174860860724\n",
      "Iteration 172, train_result 0.424897033604, test_result 0.174860860724\n",
      "Iteration 173, train_result 0.424897033604, test_result 0.174860860724\n",
      "Iteration 174, train_result 0.424897033604, test_result 0.174860860724\n",
      "Iteration 175, train_result 0.424897033604, test_result 0.174906660852\n",
      "Iteration 176, train_result 0.424897033604, test_result 0.174906660852\n",
      "Iteration 177, train_result 0.424897033604, test_result 0.174906660852\n",
      "Iteration 178, train_result 0.424897033604, test_result 0.174906660852\n",
      "Iteration 179, train_result 0.424897033604, test_result 0.174885087805\n",
      "Iteration 180, train_result 0.424897033604, test_result 0.174474651125\n",
      "Iteration 181, train_result 0.424897033604, test_result 0.174474651125\n",
      "Iteration 182, train_result 0.424897033604, test_result 0.174526718328\n",
      "Iteration 183, train_result 0.424897033604, test_result 0.174526718328\n",
      "Iteration 184, train_result 0.424897033604, test_result 0.174461223377\n",
      "Iteration 185, train_result 0.424897033604, test_result 0.174461223377\n",
      "Iteration 186, train_result 0.424897033604, test_result 0.174526718328\n",
      "Iteration 187, train_result 0.424897033604, test_result 0.174526718328\n",
      "Iteration 188, train_result 0.424897033604, test_result 0.174500013775\n",
      "Iteration 189, train_result 0.424897033604, test_result 0.174565508726\n",
      "Iteration 190, train_result 0.424704315385, test_result 0.174565508726\n",
      "Iteration 191, train_result 0.424720407918, test_result 0.174565508726\n",
      "Iteration 192, train_result 0.424720407918, test_result 0.174565508726\n",
      "Iteration 193, train_result 0.424720407918, test_result 0.174565508726\n",
      "Iteration 194, train_result 0.424720407918, test_result 0.174565508726\n",
      "Iteration 195, train_result 0.424720407918, test_result 0.174703298332\n",
      "Iteration 196, train_result 0.424720407918, test_result 0.174869642568\n",
      "Iteration 197, train_result 0.424720407918, test_result 0.174835457408\n",
      "Iteration 198, train_result 0.424720407918, test_result 0.174835457408\n",
      "Iteration 199, train_result 0.424720407918, test_result 0.174835457408\n",
      "Iteration 200, train_result 0.424720407918, test_result 0.174835457408\n",
      "Iteration 201, train_result 0.424720407918, test_result 0.174835457408\n",
      "Iteration 202, train_result 0.424720407918, test_result 0.175387035883\n",
      "Iteration 203, train_result 0.424720407918, test_result 0.17546956616\n",
      "Iteration 204, train_result 0.424720407918, test_result 0.17546956616\n",
      "Iteration 205, train_result 0.424720407918, test_result 0.17546956616\n",
      "Iteration 206, train_result 0.42488895791, test_result 0.175423766032\n",
      "Iteration 207, train_result 0.42488895791, test_result 0.175423766032\n",
      "Iteration 208, train_result 0.42488895791, test_result 0.175423766032\n",
      "Iteration 209, train_result 0.42488895791, test_result 0.174991756306\n",
      "Iteration 210, train_result 0.424913126137, test_result 0.174991756306\n",
      "Iteration 211, train_result 0.424913126137, test_result 0.174891411503\n",
      "Iteration 212, train_result 0.424913126137, test_result 0.174925596663\n",
      "Iteration 213, train_result 0.424913126137, test_result 0.174925596663\n",
      "Iteration 214, train_result 0.424913126137, test_result 0.174925596663\n",
      "Iteration 215, train_result 0.424913126137, test_result 0.174925596663\n",
      "Iteration 216, train_result 0.424913126137, test_result 0.174904023616\n",
      "Iteration 217, train_result 0.424913126137, test_result 0.174904023616\n",
      "Iteration 218, train_result 0.424913126137, test_result 0.174904023616\n",
      "Iteration 219, train_result 0.424913126137, test_result 0.174904023616\n",
      "Iteration 220, train_result 0.424913126137, test_result 0.174904023616\n",
      "Iteration 221, train_result 0.424913126137, test_result 0.174904023616\n",
      "Iteration 222, train_result 0.424913126137, test_result 0.174904023616\n",
      "Iteration 223, train_result 0.424913126137, test_result 0.174904023616\n",
      "Iteration 224, train_result 0.424913126137, test_result 0.174882450569\n",
      "Iteration 225, train_result 0.424664041452, test_result 0.17484826541\n",
      "Iteration 226, train_result 0.424763801461, test_result 0.174882450569\n",
      "Iteration 227, train_result 0.424763801461, test_result 0.174416255683\n",
      "Iteration 228, train_result 0.424763801461, test_result 0.173984245956\n",
      "Iteration 229, train_result 0.424763801461, test_result 0.173984245956\n",
      "Iteration 230, train_result 0.424763801461, test_result 0.173984245956\n",
      "Iteration 231, train_result 0.424763801461, test_result 0.173984245956\n",
      "Iteration 232, train_result 0.424571083242, test_result 0.174045135669\n",
      "Iteration 233, train_result 0.424571083242, test_result 0.174090935797\n",
      "Iteration 234, train_result 0.424571083242, test_result 0.17345327723\n",
      "Iteration 235, train_result 0.424571083242, test_result 0.173021267503\n",
      "Iteration 236, train_result 0.424571083242, test_result 0.173021267503\n",
      "Iteration 237, train_result 0.424571083242, test_result 0.173021267503\n",
      "Iteration 238, train_result 0.424571083242, test_result 0.173086762454\n",
      "Iteration 239, train_result 0.424571083242, test_result 0.173086762454\n",
      "Iteration 240, train_result 0.424571083242, test_result 0.173086762454\n",
      "Iteration 241, train_result 0.424571083242, test_result 0.173086762454\n",
      "Iteration 242, train_result 0.424571083242, test_result 0.173142520661\n",
      "Iteration 243, train_result 0.424571083242, test_result 0.173142520661\n",
      "Iteration 244, train_result 0.424571083242, test_result 0.173142520661\n",
      "Iteration 245, train_result 0.424571083242, test_result 0.172710510934\n",
      "Iteration 246, train_result 0.424571083242, test_result 0.172710510934\n",
      "Iteration 247, train_result 0.425314492857, test_result 0.172710510934\n",
      "Iteration 248, train_result 0.425321683873, test_result 0.172710510934\n",
      "Iteration 249, train_result 0.425321683873, test_result 0.172710510934\n",
      "Iteration 250, train_result 0.425321683873, test_result 0.172710510934\n",
      "Iteration 251, train_result 0.425321683873, test_result 0.172710510934\n",
      "Iteration 252, train_result 0.425321683873, test_result 0.172710510934\n",
      "Iteration 253, train_result 0.425321683873, test_result 0.172710510934\n",
      "Iteration 254, train_result 0.425471647796, test_result 0.172710510934\n",
      "Iteration 255, train_result 0.425471647796, test_result 0.172775282096\n",
      "Iteration 256, train_result 0.425471647796, test_result 0.172741096936\n",
      "Iteration 257, train_result 0.42530559134, test_result 0.172741096936\n",
      "Iteration 258, train_result 0.42530559134, test_result 0.173173106663\n",
      "Iteration 259, train_result 0.42530559134, test_result 0.173138921503\n",
      "Iteration 260, train_result 0.42530559134, test_result 0.173173106663\n",
      "Iteration 261, train_result 0.42530559134, test_result 0.173061811584\n",
      "Iteration 262, train_result 0.425083850455, test_result 0.173061811584\n",
      "Iteration 263, train_result 0.424342399934, test_result 0.172996316633\n",
      "Iteration 264, train_result 0.424342399934, test_result 0.17307884691\n",
      "Iteration 265, train_result 0.424342399934, test_result 0.17307884691\n",
      "Iteration 266, train_result 0.424342399934, test_result 0.173494125346\n",
      "Iteration 267, train_result 0.42440698588, test_result 0.173528310506\n",
      "Iteration 268, train_result 0.424564140819, test_result 0.173580392448\n",
      "Iteration 269, train_result 0.424579407528, test_result 0.173580392448\n",
      "Iteration 270, train_result 0.424579407528, test_result 0.173580392448\n",
      "Iteration 271, train_result 0.424579407528, test_result 0.173580392448\n",
      "Iteration 272, train_result 0.424579407528, test_result 0.173028813973\n",
      "Iteration 273, train_result 0.424579407528, test_result 0.173105200102\n",
      "Iteration 274, train_result 0.424514182335, test_result 0.172682012886\n",
      "Iteration 275, train_result 0.424514182335, test_result 0.173092449566\n",
      "Iteration 276, train_result 0.424514182335, test_result 0.173092449566\n",
      "Iteration 277, train_result 0.424514182335, test_result 0.173092449566\n",
      "Iteration 278, train_result 0.424514182335, test_result 0.173058264406\n",
      "Iteration 279, train_result 0.424514182335, test_result 0.173076146449\n",
      "Iteration 280, train_result 0.424514182335, test_result 0.173326269707\n",
      "Iteration 281, train_result 0.424514182335, test_result 0.173758279434\n",
      "Iteration 282, train_result 0.424514182335, test_result 0.173758279434\n",
      "Iteration 283, train_result 0.424514182335, test_result 0.173758279434\n",
      "Iteration 284, train_result 0.424514182335, test_result 0.173758279434\n",
      "Iteration 285, train_result 0.424514182335, test_result 0.173758279434\n",
      "Iteration 286, train_result 0.424514182335, test_result 0.173758279434\n",
      "Iteration 287, train_result 0.424571577266, test_result 0.173758279434\n",
      "Iteration 288, train_result 0.424571577266, test_result 0.173758279434\n",
      "Iteration 289, train_result 0.424571577266, test_result 0.173779852481\n",
      "Iteration 290, train_result 0.424571577266, test_result 0.173779852481\n",
      "Iteration 291, train_result 0.424571577266, test_result 0.173779852481\n",
      "Iteration 292, train_result 0.424571577266, test_result 0.173228274005\n",
      "Iteration 293, train_result 0.424571577266, test_result 0.173228274005\n",
      "Iteration 294, train_result 0.424606112081, test_result 0.173228274005\n",
      "Iteration 295, train_result 0.424606112081, test_result 0.173228274005\n"
     ]
    },
    {
     "ename": "KeyboardInterrupt",
     "evalue": "",
     "output_type": "error",
     "traceback": [
      "\u001b[1;31m---------------------------------------------------------------------------\u001b[0m",
      "\u001b[1;31mKeyboardInterrupt\u001b[0m                         Traceback (most recent call last)",
      "\u001b[1;32m<ipython-input-11-e53b92d3b74c>\u001b[0m in \u001b[0;36m<module>\u001b[1;34m()\u001b[0m\n\u001b[1;32m----> 1\u001b[1;33m \u001b[0mget_ipython\u001b[0m\u001b[1;33m(\u001b[0m\u001b[1;33m)\u001b[0m\u001b[1;33m.\u001b[0m\u001b[0mmagic\u001b[0m\u001b[1;33m(\u001b[0m\u001b[1;34mu'time clf1 = clf1.fit(X_train, y_train, q_train, queries_train, X_test, y_test, q_test, queries_test)'\u001b[0m\u001b[1;33m)\u001b[0m\u001b[1;33m\u001b[0m\u001b[0m\n\u001b[0m",
      "\u001b[1;32mC:\\Users\\Kirill\\Anaconda2\\lib\\site-packages\\IPython\\core\\interactiveshell.pyc\u001b[0m in \u001b[0;36mmagic\u001b[1;34m(self, arg_s)\u001b[0m\n\u001b[0;32m   2161\u001b[0m         \u001b[0mmagic_name\u001b[0m\u001b[1;33m,\u001b[0m \u001b[0m_\u001b[0m\u001b[1;33m,\u001b[0m \u001b[0mmagic_arg_s\u001b[0m \u001b[1;33m=\u001b[0m \u001b[0marg_s\u001b[0m\u001b[1;33m.\u001b[0m\u001b[0mpartition\u001b[0m\u001b[1;33m(\u001b[0m\u001b[1;34m' '\u001b[0m\u001b[1;33m)\u001b[0m\u001b[1;33m\u001b[0m\u001b[0m\n\u001b[0;32m   2162\u001b[0m         \u001b[0mmagic_name\u001b[0m \u001b[1;33m=\u001b[0m \u001b[0mmagic_name\u001b[0m\u001b[1;33m.\u001b[0m\u001b[0mlstrip\u001b[0m\u001b[1;33m(\u001b[0m\u001b[0mprefilter\u001b[0m\u001b[1;33m.\u001b[0m\u001b[0mESC_MAGIC\u001b[0m\u001b[1;33m)\u001b[0m\u001b[1;33m\u001b[0m\u001b[0m\n\u001b[1;32m-> 2163\u001b[1;33m         \u001b[1;32mreturn\u001b[0m \u001b[0mself\u001b[0m\u001b[1;33m.\u001b[0m\u001b[0mrun_line_magic\u001b[0m\u001b[1;33m(\u001b[0m\u001b[0mmagic_name\u001b[0m\u001b[1;33m,\u001b[0m \u001b[0mmagic_arg_s\u001b[0m\u001b[1;33m)\u001b[0m\u001b[1;33m\u001b[0m\u001b[0m\n\u001b[0m\u001b[0;32m   2164\u001b[0m \u001b[1;33m\u001b[0m\u001b[0m\n\u001b[0;32m   2165\u001b[0m     \u001b[1;31m#-------------------------------------------------------------------------\u001b[0m\u001b[1;33m\u001b[0m\u001b[1;33m\u001b[0m\u001b[0m\n",
      "\u001b[1;32mC:\\Users\\Kirill\\Anaconda2\\lib\\site-packages\\IPython\\core\\interactiveshell.pyc\u001b[0m in \u001b[0;36mrun_line_magic\u001b[1;34m(self, magic_name, line)\u001b[0m\n\u001b[0;32m   2082\u001b[0m                 \u001b[0mkwargs\u001b[0m\u001b[1;33m[\u001b[0m\u001b[1;34m'local_ns'\u001b[0m\u001b[1;33m]\u001b[0m \u001b[1;33m=\u001b[0m \u001b[0msys\u001b[0m\u001b[1;33m.\u001b[0m\u001b[0m_getframe\u001b[0m\u001b[1;33m(\u001b[0m\u001b[0mstack_depth\u001b[0m\u001b[1;33m)\u001b[0m\u001b[1;33m.\u001b[0m\u001b[0mf_locals\u001b[0m\u001b[1;33m\u001b[0m\u001b[0m\n\u001b[0;32m   2083\u001b[0m             \u001b[1;32mwith\u001b[0m \u001b[0mself\u001b[0m\u001b[1;33m.\u001b[0m\u001b[0mbuiltin_trap\u001b[0m\u001b[1;33m:\u001b[0m\u001b[1;33m\u001b[0m\u001b[0m\n\u001b[1;32m-> 2084\u001b[1;33m                 \u001b[0mresult\u001b[0m \u001b[1;33m=\u001b[0m \u001b[0mfn\u001b[0m\u001b[1;33m(\u001b[0m\u001b[1;33m*\u001b[0m\u001b[0margs\u001b[0m\u001b[1;33m,\u001b[0m\u001b[1;33m**\u001b[0m\u001b[0mkwargs\u001b[0m\u001b[1;33m)\u001b[0m\u001b[1;33m\u001b[0m\u001b[0m\n\u001b[0m\u001b[0;32m   2085\u001b[0m             \u001b[1;32mreturn\u001b[0m \u001b[0mresult\u001b[0m\u001b[1;33m\u001b[0m\u001b[0m\n\u001b[0;32m   2086\u001b[0m \u001b[1;33m\u001b[0m\u001b[0m\n",
      "\u001b[1;32m<decorator-gen-61>\u001b[0m in \u001b[0;36mtime\u001b[1;34m(self, line, cell, local_ns)\u001b[0m\n",
      "\u001b[1;32mC:\\Users\\Kirill\\Anaconda2\\lib\\site-packages\\IPython\\core\\magic.pyc\u001b[0m in \u001b[0;36m<lambda>\u001b[1;34m(f, *a, **k)\u001b[0m\n\u001b[0;32m    191\u001b[0m     \u001b[1;31m# but it's overkill for just that one bit of state.\u001b[0m\u001b[1;33m\u001b[0m\u001b[1;33m\u001b[0m\u001b[0m\n\u001b[0;32m    192\u001b[0m     \u001b[1;32mdef\u001b[0m \u001b[0mmagic_deco\u001b[0m\u001b[1;33m(\u001b[0m\u001b[0marg\u001b[0m\u001b[1;33m)\u001b[0m\u001b[1;33m:\u001b[0m\u001b[1;33m\u001b[0m\u001b[0m\n\u001b[1;32m--> 193\u001b[1;33m         \u001b[0mcall\u001b[0m \u001b[1;33m=\u001b[0m \u001b[1;32mlambda\u001b[0m \u001b[0mf\u001b[0m\u001b[1;33m,\u001b[0m \u001b[1;33m*\u001b[0m\u001b[0ma\u001b[0m\u001b[1;33m,\u001b[0m \u001b[1;33m**\u001b[0m\u001b[0mk\u001b[0m\u001b[1;33m:\u001b[0m \u001b[0mf\u001b[0m\u001b[1;33m(\u001b[0m\u001b[1;33m*\u001b[0m\u001b[0ma\u001b[0m\u001b[1;33m,\u001b[0m \u001b[1;33m**\u001b[0m\u001b[0mk\u001b[0m\u001b[1;33m)\u001b[0m\u001b[1;33m\u001b[0m\u001b[0m\n\u001b[0m\u001b[0;32m    194\u001b[0m \u001b[1;33m\u001b[0m\u001b[0m\n\u001b[0;32m    195\u001b[0m         \u001b[1;32mif\u001b[0m \u001b[0mcallable\u001b[0m\u001b[1;33m(\u001b[0m\u001b[0marg\u001b[0m\u001b[1;33m)\u001b[0m\u001b[1;33m:\u001b[0m\u001b[1;33m\u001b[0m\u001b[0m\n",
      "\u001b[1;32mC:\\Users\\Kirill\\Anaconda2\\lib\\site-packages\\IPython\\core\\magics\\execution.pyc\u001b[0m in \u001b[0;36mtime\u001b[1;34m(self, line, cell, local_ns)\u001b[0m\n\u001b[0;32m   1175\u001b[0m         \u001b[1;32melse\u001b[0m\u001b[1;33m:\u001b[0m\u001b[1;33m\u001b[0m\u001b[0m\n\u001b[0;32m   1176\u001b[0m             \u001b[0mst\u001b[0m \u001b[1;33m=\u001b[0m \u001b[0mclock2\u001b[0m\u001b[1;33m(\u001b[0m\u001b[1;33m)\u001b[0m\u001b[1;33m\u001b[0m\u001b[0m\n\u001b[1;32m-> 1177\u001b[1;33m             \u001b[1;32mexec\u001b[0m\u001b[1;33m(\u001b[0m\u001b[0mcode\u001b[0m\u001b[1;33m,\u001b[0m \u001b[0mglob\u001b[0m\u001b[1;33m,\u001b[0m \u001b[0mlocal_ns\u001b[0m\u001b[1;33m)\u001b[0m\u001b[1;33m\u001b[0m\u001b[0m\n\u001b[0m\u001b[0;32m   1178\u001b[0m             \u001b[0mend\u001b[0m \u001b[1;33m=\u001b[0m \u001b[0mclock2\u001b[0m\u001b[1;33m(\u001b[0m\u001b[1;33m)\u001b[0m\u001b[1;33m\u001b[0m\u001b[0m\n\u001b[0;32m   1179\u001b[0m             \u001b[0mout\u001b[0m \u001b[1;33m=\u001b[0m \u001b[0mNone\u001b[0m\u001b[1;33m\u001b[0m\u001b[0m\n",
      "\u001b[1;32m<timed exec>\u001b[0m in \u001b[0;36m<module>\u001b[1;34m()\u001b[0m\n",
      "\u001b[1;32m<ipython-input-4-0dde548ff640>\u001b[0m in \u001b[0;36mfit\u001b[1;34m(self, X_train, y_train, qids_train, queries_train, X_test, y_test, qids_test, queries_test, verbose)\u001b[0m\n\u001b[0;32m     41\u001b[0m         \u001b[1;32mfor\u001b[0m \u001b[0mi\u001b[0m \u001b[1;32min\u001b[0m \u001b[0mxrange\u001b[0m\u001b[1;33m(\u001b[0m\u001b[0mself\u001b[0m\u001b[1;33m.\u001b[0m\u001b[0mn_estimators\u001b[0m\u001b[1;33m)\u001b[0m\u001b[1;33m:\u001b[0m\u001b[1;33m\u001b[0m\u001b[0m\n\u001b[0;32m     42\u001b[0m             \u001b[0mpredicted\u001b[0m \u001b[1;33m=\u001b[0m \u001b[0mself\u001b[0m\u001b[1;33m.\u001b[0m\u001b[0mpredict\u001b[0m\u001b[1;33m(\u001b[0m\u001b[0mX_train\u001b[0m\u001b[1;33m,\u001b[0m \u001b[0mqids_train\u001b[0m\u001b[1;33m,\u001b[0m \u001b[0mqueries_train\u001b[0m\u001b[1;33m,\u001b[0m \u001b[0mverbose\u001b[0m\u001b[1;33m)\u001b[0m\u001b[1;33m\u001b[0m\u001b[0m\n\u001b[1;32m---> 43\u001b[1;33m             \u001b[0my_pred\u001b[0m \u001b[1;33m=\u001b[0m \u001b[0mself\u001b[0m\u001b[1;33m.\u001b[0m\u001b[0mpredict\u001b[0m\u001b[1;33m(\u001b[0m\u001b[0mX_test\u001b[0m\u001b[1;33m,\u001b[0m \u001b[0mqids_test\u001b[0m\u001b[1;33m,\u001b[0m \u001b[0mqueries_test\u001b[0m\u001b[1;33m)\u001b[0m\u001b[1;33m\u001b[0m\u001b[0m\n\u001b[0m\u001b[0;32m     44\u001b[0m             \u001b[0mtrain_result\u001b[0m \u001b[1;33m=\u001b[0m \u001b[0mndcgl\u001b[0m\u001b[1;33m(\u001b[0m\u001b[0mpredicted\u001b[0m\u001b[1;33m,\u001b[0m \u001b[0my_train\u001b[0m\u001b[1;33m,\u001b[0m \u001b[0mqids_train\u001b[0m\u001b[1;33m)\u001b[0m\u001b[1;33m\u001b[0m\u001b[0m\n\u001b[0;32m     45\u001b[0m             \u001b[0mtest_result\u001b[0m \u001b[1;33m=\u001b[0m \u001b[0mndcgl\u001b[0m\u001b[1;33m(\u001b[0m\u001b[0my_pred\u001b[0m\u001b[1;33m,\u001b[0m \u001b[0my_test\u001b[0m\u001b[1;33m,\u001b[0m \u001b[0mqids_test\u001b[0m\u001b[1;33m)\u001b[0m\u001b[1;33m\u001b[0m\u001b[0m\n",
      "\u001b[1;32m<ipython-input-4-0dde548ff640>\u001b[0m in \u001b[0;36mpredict\u001b[1;34m(self, X, qids, queries, verbose)\u001b[0m\n\u001b[0;32m    112\u001b[0m                 \u001b[0mstep\u001b[0m \u001b[1;33m=\u001b[0m \u001b[1;36m1.\u001b[0m \u001b[1;33m/\u001b[0m \u001b[1;33m(\u001b[0m\u001b[0mi\u001b[0m \u001b[1;33m+\u001b[0m \u001b[1;36m1.\u001b[0m\u001b[1;33m)\u001b[0m\u001b[1;33m\u001b[0m\u001b[0m\n\u001b[0;32m    113\u001b[0m                 \u001b[1;32mif\u001b[0m \u001b[0mself\u001b[0m\u001b[1;33m.\u001b[0m\u001b[0madaptive_step\u001b[0m\u001b[1;33m:\u001b[0m\u001b[1;33m\u001b[0m\u001b[0m\n\u001b[1;32m--> 114\u001b[1;33m                     \u001b[0mstep\u001b[0m \u001b[1;33m=\u001b[0m \u001b[0mself\u001b[0m\u001b[1;33m.\u001b[0m\u001b[0mstep_estimators\u001b[0m\u001b[1;33m[\u001b[0m\u001b[0mest_i\u001b[0m\u001b[1;33m]\u001b[0m\u001b[1;33m.\u001b[0m\u001b[0mpredict\u001b[0m\u001b[1;33m(\u001b[0m\u001b[0mqueries\u001b[0m\u001b[1;33m[\u001b[0m\u001b[0mi\u001b[0m\u001b[1;33m]\u001b[0m\u001b[1;33m.\u001b[0m\u001b[0mreshape\u001b[0m\u001b[1;33m(\u001b[0m\u001b[1;36m1\u001b[0m\u001b[1;33m,\u001b[0m\u001b[1;33m-\u001b[0m\u001b[1;36m1\u001b[0m\u001b[1;33m)\u001b[0m\u001b[1;33m[\u001b[0m\u001b[1;36m0\u001b[0m\u001b[1;33m]\u001b[0m\u001b[1;33m)\u001b[0m\u001b[1;33m\u001b[0m\u001b[0m\n\u001b[0m\u001b[0;32m    115\u001b[0m                 \u001b[1;32mif\u001b[0m \u001b[0mverbose\u001b[0m\u001b[1;33m:\u001b[0m\u001b[1;33m\u001b[0m\u001b[0m\n\u001b[0;32m    116\u001b[0m                     \u001b[1;32mprint\u001b[0m \u001b[1;34m\"Step: \"\u001b[0m\u001b[1;33m,\u001b[0m \u001b[0mstep\u001b[0m\u001b[1;33m,\u001b[0m \u001b[1;34m\" for qid=\"\u001b[0m\u001b[1;33m,\u001b[0m \u001b[0mqids\u001b[0m\u001b[1;33m[\u001b[0m\u001b[0mi\u001b[0m\u001b[1;33m]\u001b[0m\u001b[1;33m\u001b[0m\u001b[0m\n",
      "\u001b[1;32mC:\\Users\\Kirill\\Anaconda2\\lib\\site-packages\\sklearn\\tree\\tree.pyc\u001b[0m in \u001b[0;36mpredict\u001b[1;34m(self, X, check_input)\u001b[0m\n\u001b[0;32m    429\u001b[0m         \"\"\"\n\u001b[0;32m    430\u001b[0m \u001b[1;33m\u001b[0m\u001b[0m\n\u001b[1;32m--> 431\u001b[1;33m         \u001b[0mX\u001b[0m \u001b[1;33m=\u001b[0m \u001b[0mself\u001b[0m\u001b[1;33m.\u001b[0m\u001b[0m_validate_X_predict\u001b[0m\u001b[1;33m(\u001b[0m\u001b[0mX\u001b[0m\u001b[1;33m,\u001b[0m \u001b[0mcheck_input\u001b[0m\u001b[1;33m)\u001b[0m\u001b[1;33m\u001b[0m\u001b[0m\n\u001b[0m\u001b[0;32m    432\u001b[0m         \u001b[0mproba\u001b[0m \u001b[1;33m=\u001b[0m \u001b[0mself\u001b[0m\u001b[1;33m.\u001b[0m\u001b[0mtree_\u001b[0m\u001b[1;33m.\u001b[0m\u001b[0mpredict\u001b[0m\u001b[1;33m(\u001b[0m\u001b[0mX\u001b[0m\u001b[1;33m)\u001b[0m\u001b[1;33m\u001b[0m\u001b[0m\n\u001b[0;32m    433\u001b[0m         \u001b[0mn_samples\u001b[0m \u001b[1;33m=\u001b[0m \u001b[0mX\u001b[0m\u001b[1;33m.\u001b[0m\u001b[0mshape\u001b[0m\u001b[1;33m[\u001b[0m\u001b[1;36m0\u001b[0m\u001b[1;33m]\u001b[0m\u001b[1;33m\u001b[0m\u001b[0m\n",
      "\u001b[1;32mC:\\Users\\Kirill\\Anaconda2\\lib\\site-packages\\sklearn\\tree\\tree.pyc\u001b[0m in \u001b[0;36m_validate_X_predict\u001b[1;34m(self, X, check_input)\u001b[0m\n\u001b[0;32m    390\u001b[0m \u001b[1;33m\u001b[0m\u001b[0m\n\u001b[0;32m    391\u001b[0m         \u001b[1;32mif\u001b[0m \u001b[0mcheck_input\u001b[0m\u001b[1;33m:\u001b[0m\u001b[1;33m\u001b[0m\u001b[0m\n\u001b[1;32m--> 392\u001b[1;33m             \u001b[0mX\u001b[0m \u001b[1;33m=\u001b[0m \u001b[0mcheck_array\u001b[0m\u001b[1;33m(\u001b[0m\u001b[0mX\u001b[0m\u001b[1;33m,\u001b[0m \u001b[0mdtype\u001b[0m\u001b[1;33m=\u001b[0m\u001b[0mDTYPE\u001b[0m\u001b[1;33m,\u001b[0m \u001b[0maccept_sparse\u001b[0m\u001b[1;33m=\u001b[0m\u001b[1;34m\"csr\"\u001b[0m\u001b[1;33m)\u001b[0m\u001b[1;33m\u001b[0m\u001b[0m\n\u001b[0m\u001b[0;32m    393\u001b[0m             if issparse(X) and (X.indices.dtype != np.intc or\n\u001b[0;32m    394\u001b[0m                                 X.indptr.dtype != np.intc):\n",
      "\u001b[1;32mC:\\Users\\Kirill\\Anaconda2\\lib\\site-packages\\sklearn\\utils\\validation.pyc\u001b[0m in \u001b[0;36mcheck_array\u001b[1;34m(array, accept_sparse, dtype, order, copy, force_all_finite, ensure_2d, allow_nd, ensure_min_samples, ensure_min_features, warn_on_dtype, estimator)\u001b[0m\n\u001b[0;32m    358\u001b[0m             \u001b[0mdtype\u001b[0m \u001b[1;33m=\u001b[0m \u001b[0mNone\u001b[0m\u001b[1;33m\u001b[0m\u001b[0m\n\u001b[0;32m    359\u001b[0m \u001b[1;33m\u001b[0m\u001b[0m\n\u001b[1;32m--> 360\u001b[1;33m     \u001b[1;32mif\u001b[0m \u001b[0misinstance\u001b[0m\u001b[1;33m(\u001b[0m\u001b[0mdtype\u001b[0m\u001b[1;33m,\u001b[0m \u001b[1;33m(\u001b[0m\u001b[0mlist\u001b[0m\u001b[1;33m,\u001b[0m \u001b[0mtuple\u001b[0m\u001b[1;33m)\u001b[0m\u001b[1;33m)\u001b[0m\u001b[1;33m:\u001b[0m\u001b[1;33m\u001b[0m\u001b[0m\n\u001b[0m\u001b[0;32m    361\u001b[0m         \u001b[1;32mif\u001b[0m \u001b[0mdtype_orig\u001b[0m \u001b[1;32mis\u001b[0m \u001b[1;32mnot\u001b[0m \u001b[0mNone\u001b[0m \u001b[1;32mand\u001b[0m \u001b[0mdtype_orig\u001b[0m \u001b[1;32min\u001b[0m \u001b[0mdtype\u001b[0m\u001b[1;33m:\u001b[0m\u001b[1;33m\u001b[0m\u001b[0m\n\u001b[0;32m    362\u001b[0m             \u001b[1;31m# no dtype conversion required\u001b[0m\u001b[1;33m\u001b[0m\u001b[1;33m\u001b[0m\u001b[0m\n",
      "\u001b[1;31mKeyboardInterrupt\u001b[0m: "
     ]
    }
   ],
   "source": [
    "%time clf1 = clf1.fit(X_train, y_train, q_train, queries_train, X_test, y_test, q_test, queries_test)"
   ]
  },
  {
   "cell_type": "code",
   "execution_count": 53,
   "metadata": {
    "collapsed": false
   },
   "outputs": [
    {
     "data": {
      "text/plain": [
       "[<matplotlib.lines.Line2D at 0xcef40b8>]"
      ]
     },
     "execution_count": 53,
     "metadata": {},
     "output_type": "execute_result"
    },
    {
     "data": {
      "image/png": "[encoded data removed]",
      "text/plain": [
       "<matplotlib.figure.Figure at 0x85e0cc0>"
      ]
     },
     "metadata": {},
     "output_type": "display_data"
    }
   ],
   "source": [
    "# Визуализация\n",
    "axis_x = map(lambda x: x[0], results_buf1)[1:100]\n",
    "train_y1 = map(lambda x: x[1], results_buf1)[1:100]\n",
    "test_y1 = map(lambda x: x[2], results_buf1)[1:100]\n",
    "train_y2 = map(lambda x: x[1], results_buf2)[1:100]\n",
    "test_y2 = map(lambda x: x[2], results_buf2)[1:100]\n",
    "#pylab.plot(axis_x, train_y)\n",
    "pylab.plot(axis_x, test_y1)\n",
    "pylab.plot(axis_x, test_y2)"
   ]
  },
  {
   "cell_type": "code",
   "execution_count": 58,
   "metadata": {
    "collapsed": false
   },
   "outputs": [
    {
     "data": {
      "text/plain": [
       "[<matplotlib.lines.Line2D at 0x13c17cc0>]"
      ]
     },
     "execution_count": 58,
     "metadata": {},
     "output_type": "execute_result"
    },
    {
     "data": {
      "image/png": "[encoded data removed]",
      "text/plain": [
       "<matplotlib.figure.Figure at 0x9a387b8>"
      ]
     },
     "metadata": {},
     "output_type": "display_data"
    }
   ],
   "source": [
    "axis_x = map(lambda x: x[0], results_buf1)[1:]\n",
    "train_y = map(lambda x: x[1], results_buf1)[1:]\n",
    "test_y = map(lambda x: x[2], results_buf1)[1:]\n",
    "#pylab.plot(axis_x, train_y)\n",
    "pylab.plot(axis_x, test_y)"
   ]
  },
  {
   "cell_type": "code",
   "execution_count": 38,
   "metadata": {
    "collapsed": false
   },
   "outputs": [
    {
     "data": {
      "text/plain": [
       "[<matplotlib.lines.Line2D at 0x163685c0>]"
      ]
     },
     "execution_count": 38,
     "metadata": {},
     "output_type": "execute_result"
    }
   ],
   "source": [
    "axis_x2 = map(lambda x: x[0], results_buf2)[1:]\n",
    "train_y2 = map(lambda x: x[1], results_buf2)[1:]\n",
    "test_y2 = map(lambda x: x[2], results_buf2)[1:]\n",
    "pylab.plot(axis_x2, train_y2)\n",
    "#pylab.plot(axis_x2, test_y2)"
   ]
  },
  {
   "cell_type": "code",
   "execution_count": 25,
   "metadata": {
    "collapsed": true
   },
   "outputs": [],
   "source": [
    "# Сохраним пока данные\n",
    "with open('results_no_fs_300.txt','w+') as fout:\n",
    "    for i, train, test in results_buf2:\n",
    "        s = \"Iteration {}, train_result {}, test_result {}\\n\".format(i, train, test)\n",
    "        fout.write(s)"
   ]
  },
  {
   "cell_type": "code",
   "execution_count": 17,
   "metadata": {
    "collapsed": false
   },
   "outputs": [],
   "source": [
    "# Откроём сохранённые результаты fs\n",
    "with open('results_fs_200.txt','r+') as fin:\n",
    "    results_buf1 = []\n",
    "    lines = fin.readlines()\n",
    "    for line in lines:\n",
    "        tokens = line.split(' ')\n",
    "        results_buf1.append((int(tokens[1][:-1]), float(tokens[3][:-1]), float(tokens[5])))\n",
    "        #print tokens[1][:-1]\n",
    "        #print tokens[3][:-1]\n",
    "        #print tokens[5]"
   ]
  },
  {
   "cell_type": "code",
   "execution_count": 6,
   "metadata": {
    "collapsed": true
   },
   "outputs": [],
   "source": [
    "# Откроём сохранённые результаты no_fs\n",
    "with open('results_no_fs_300.txt','r+') as fin:\n",
    "    results_buf1 = []\n",
    "    lines = fin.readlines()\n",
    "    for line in lines:\n",
    "        tokens = line.split(' ')\n",
    "        results_buf2.append((int(tokens[1][:-1]), float(tokens[3][:-1]), float(tokens[5])))"
   ]
  },
  {
   "cell_type": "code",
   "execution_count": 8,
   "metadata": {
    "collapsed": false
   },
   "outputs": [
    {
     "data": {
      "text/plain": [
       "[<matplotlib.lines.Line2D at 0x9f852b0>]"
      ]
     },
     "execution_count": 8,
     "metadata": {},
     "output_type": "execute_result"
    },
    {
     "data": {
      "image/png": "[encoded data removed]",
      "text/plain": [
       "<matplotlib.figure.Figure at 0x864f588>"
      ]
     },
     "metadata": {},
     "output_type": "display_data"
    }
   ],
   "source": [
    "axis_x1 = map(lambda x: x[0], results_buf2)[1:]\n",
    "train_y1 = map(lambda x: x[1], results_buf2)[1:]\n",
    "test_y1 = map(lambda x: x[2], results_buf2)[1:]\n",
    "#pylab.plot(axis_x, train_y)\n",
    "pylab.plot(axis_x1, test_y1)"
   ]
  },
  {
   "cell_type": "code",
   "execution_count": 26,
   "metadata": {
    "collapsed": false
   },
   "outputs": [
    {
     "name": "stdout",
     "output_type": "stream",
     "text": [
      "Using matplotlib backend: Qt4Agg\n"
     ]
    }
   ],
   "source": [
    "%matplotlib auto"
   ]
  },
  {
   "cell_type": "code",
   "execution_count": 42,
   "metadata": {
    "collapsed": false
   },
   "outputs": [],
   "source": [
    "import matplotlib.patches as mpatches\n",
    "\n",
    "# Визуализация\n",
    "axis_x = map(lambda x: x[0], results_buf1)[:200]\n",
    "train_y1 = map(lambda x: x[1], results_buf1)[:200]\n",
    "test_y1 = map(lambda x: x[2], results_buf1)[:200]\n",
    "train_y2 = map(lambda x: x[1], results_buf2)[1:200]\n",
    "test_y2 = map(lambda x: x[2], results_buf2)[1:200]\n",
    "#pylab.plot(axis_x, train_y)\n",
    "pylab.plot(axis_x, test_y1)\n",
    "pylab.plot(axis_x, test_y2)\n",
    "blue_patch = mpatches.Patch(color='blue', label='With feature selection')\n",
    "green_patch = mpatches.Patch(color='green', label='No feature selection')\n",
    "pylab.legend(handles=[blue_patch, green_patch])\n",
    "pylab.xticks(np.arange(0, 201, 20))\n",
    "pylab.yticks(np.arange(0.14, 0.21, 0.005))\n",
    "pylab.grid(True)"
   ]
  },
  {
   "cell_type": "code",
   "execution_count": 29,
   "metadata": {
    "collapsed": false
   },
   "outputs": [
    {
     "data": {
      "text/plain": [
       "(array([ 0. ,  0.2,  0.4,  0.6,  0.8,  1. ]),\n",
       " <a list of 6 Text xticklabel objects>)"
      ]
     },
     "execution_count": 29,
     "metadata": {},
     "output_type": "execute_result"
    }
   ],
   "source": []
  },
  {
   "cell_type": "markdown",
   "metadata": {},
   "source": [
    "### Результаты на 5000 элементах"
   ]
  },
  {
   "cell_type": "code",
   "execution_count": 8,
   "metadata": {
    "collapsed": true
   },
   "outputs": [],
   "source": [
    "n = 200\n",
    "clf2 = LambdaMART(n, alpha=0.5, beta=1., feature_subset=True, feature_fraction=0.3)\n",
    "clf1 = LambdaMART(n, alpha=0.5, beta=1.)"
   ]
  },
  {
   "cell_type": "code",
   "execution_count": 9,
   "metadata": {
    "collapsed": false
   },
   "outputs": [
    {
     "name": "stdout",
     "output_type": "stream",
     "text": [
      "Iteration  1  result  0.0287593537783\n",
      "Iteration  31  result  0.852402040229\n",
      "Iteration  61  result  0.918656263683\n",
      "Iteration  91  result  0.935536614135\n",
      "Iteration  121  result  0.935536614135\n",
      "Iteration  151  result  0.935536614135\n",
      "Iteration  181  result  0.935536614135\n",
      "Wall time: 5h 40min 27s\n"
     ]
    }
   ],
   "source": [
    "%time clf2 = clf2.fit(X_full_train, y_full_train, q_full_train, queries_full_train, X_test, y_test, q_test, queries_test)"
   ]
  },
  {
   "cell_type": "code",
   "execution_count": 10,
   "metadata": {
    "collapsed": false
   },
   "outputs": [
    {
     "name": "stdout",
     "output_type": "stream",
     "text": [
      "Iteration  1  result  0.24469999225\n",
      "Iteration  31  result  0.803626307519\n",
      "Iteration  61  result  0.802526356657\n",
      "Iteration  91  result  0.802526356657\n",
      "Iteration  121  result  0.805159791912\n",
      "Iteration  151  result  0.868780580111\n",
      "Iteration  181  result  0.805159791912\n"
     ]
    },
    {
     "ename": "KeyboardInterrupt",
     "evalue": "",
     "output_type": "error",
     "traceback": [
      "\u001b[0;31m---------------------------------------------------------------------------\u001b[0m",
      "\u001b[0;31mKeyboardInterrupt\u001b[0m                         Traceback (most recent call last)",
      "\u001b[0;32m<ipython-input-10-bba5a5d603af>\u001b[0m in \u001b[0;36m<module>\u001b[0;34m()\u001b[0m\n\u001b[0;32m----> 1\u001b[0;31m \u001b[0mget_ipython\u001b[0m\u001b[1;33m(\u001b[0m\u001b[1;33m)\u001b[0m\u001b[1;33m.\u001b[0m\u001b[0mmagic\u001b[0m\u001b[1;33m(\u001b[0m\u001b[1;34mu'time clf1 = clf1.fit(X_full_train, y_full_train, q_full_train, queries_full_train, X_test, y_test, q_test, queries_test)'\u001b[0m\u001b[1;33m)\u001b[0m\u001b[1;33m\u001b[0m\u001b[0m\n\u001b[0m",
      "\u001b[0;32mD:\\Programs\\lib\\site-packages\\IPython\\core\\interactiveshell.pyc\u001b[0m in \u001b[0;36mmagic\u001b[0;34m(self, arg_s)\u001b[0m\n\u001b[1;32m   2156\u001b[0m         \u001b[0mmagic_name\u001b[0m\u001b[1;33m,\u001b[0m \u001b[0m_\u001b[0m\u001b[1;33m,\u001b[0m \u001b[0mmagic_arg_s\u001b[0m \u001b[1;33m=\u001b[0m \u001b[0marg_s\u001b[0m\u001b[1;33m.\u001b[0m\u001b[0mpartition\u001b[0m\u001b[1;33m(\u001b[0m\u001b[1;34m' '\u001b[0m\u001b[1;33m)\u001b[0m\u001b[1;33m\u001b[0m\u001b[0m\n\u001b[1;32m   2157\u001b[0m         \u001b[0mmagic_name\u001b[0m \u001b[1;33m=\u001b[0m \u001b[0mmagic_name\u001b[0m\u001b[1;33m.\u001b[0m\u001b[0mlstrip\u001b[0m\u001b[1;33m(\u001b[0m\u001b[0mprefilter\u001b[0m\u001b[1;33m.\u001b[0m\u001b[0mESC_MAGIC\u001b[0m\u001b[1;33m)\u001b[0m\u001b[1;33m\u001b[0m\u001b[0m\n\u001b[0;32m-> 2158\u001b[0;31m         \u001b[1;32mreturn\u001b[0m \u001b[0mself\u001b[0m\u001b[1;33m.\u001b[0m\u001b[0mrun_line_magic\u001b[0m\u001b[1;33m(\u001b[0m\u001b[0mmagic_name\u001b[0m\u001b[1;33m,\u001b[0m \u001b[0mmagic_arg_s\u001b[0m\u001b[1;33m)\u001b[0m\u001b[1;33m\u001b[0m\u001b[0m\n\u001b[0m\u001b[1;32m   2159\u001b[0m \u001b[1;33m\u001b[0m\u001b[0m\n\u001b[1;32m   2160\u001b[0m     \u001b[1;31m#-------------------------------------------------------------------------\u001b[0m\u001b[1;33m\u001b[0m\u001b[1;33m\u001b[0m\u001b[0m\n",
      "\u001b[0;32mD:\\Programs\\lib\\site-packages\\IPython\\core\\interactiveshell.pyc\u001b[0m in \u001b[0;36mrun_line_magic\u001b[0;34m(self, magic_name, line)\u001b[0m\n\u001b[1;32m   2077\u001b[0m                 \u001b[0mkwargs\u001b[0m\u001b[1;33m[\u001b[0m\u001b[1;34m'local_ns'\u001b[0m\u001b[1;33m]\u001b[0m \u001b[1;33m=\u001b[0m \u001b[0msys\u001b[0m\u001b[1;33m.\u001b[0m\u001b[0m_getframe\u001b[0m\u001b[1;33m(\u001b[0m\u001b[0mstack_depth\u001b[0m\u001b[1;33m)\u001b[0m\u001b[1;33m.\u001b[0m\u001b[0mf_locals\u001b[0m\u001b[1;33m\u001b[0m\u001b[0m\n\u001b[1;32m   2078\u001b[0m             \u001b[1;32mwith\u001b[0m \u001b[0mself\u001b[0m\u001b[1;33m.\u001b[0m\u001b[0mbuiltin_trap\u001b[0m\u001b[1;33m:\u001b[0m\u001b[1;33m\u001b[0m\u001b[0m\n\u001b[0;32m-> 2079\u001b[0;31m                 \u001b[0mresult\u001b[0m \u001b[1;33m=\u001b[0m \u001b[0mfn\u001b[0m\u001b[1;33m(\u001b[0m\u001b[1;33m*\u001b[0m\u001b[0margs\u001b[0m\u001b[1;33m,\u001b[0m\u001b[1;33m**\u001b[0m\u001b[0mkwargs\u001b[0m\u001b[1;33m)\u001b[0m\u001b[1;33m\u001b[0m\u001b[0m\n\u001b[0m\u001b[1;32m   2080\u001b[0m             \u001b[1;32mreturn\u001b[0m \u001b[0mresult\u001b[0m\u001b[1;33m\u001b[0m\u001b[0m\n\u001b[1;32m   2081\u001b[0m \u001b[1;33m\u001b[0m\u001b[0m\n",
      "\u001b[0;32m<decorator-gen-60>\u001b[0m in \u001b[0;36mtime\u001b[0;34m(self, line, cell, local_ns)\u001b[0m\n",
      "\u001b[0;32mD:\\Programs\\lib\\site-packages\\IPython\\core\\magic.pyc\u001b[0m in \u001b[0;36m<lambda>\u001b[0;34m(f, *a, **k)\u001b[0m\n\u001b[1;32m    186\u001b[0m     \u001b[1;31m# but it's overkill for just that one bit of state.\u001b[0m\u001b[1;33m\u001b[0m\u001b[1;33m\u001b[0m\u001b[0m\n\u001b[1;32m    187\u001b[0m     \u001b[1;32mdef\u001b[0m \u001b[0mmagic_deco\u001b[0m\u001b[1;33m(\u001b[0m\u001b[0marg\u001b[0m\u001b[1;33m)\u001b[0m\u001b[1;33m:\u001b[0m\u001b[1;33m\u001b[0m\u001b[0m\n\u001b[0;32m--> 188\u001b[0;31m         \u001b[0mcall\u001b[0m \u001b[1;33m=\u001b[0m \u001b[1;32mlambda\u001b[0m \u001b[0mf\u001b[0m\u001b[1;33m,\u001b[0m \u001b[1;33m*\u001b[0m\u001b[0ma\u001b[0m\u001b[1;33m,\u001b[0m \u001b[1;33m**\u001b[0m\u001b[0mk\u001b[0m\u001b[1;33m:\u001b[0m \u001b[0mf\u001b[0m\u001b[1;33m(\u001b[0m\u001b[1;33m*\u001b[0m\u001b[0ma\u001b[0m\u001b[1;33m,\u001b[0m \u001b[1;33m**\u001b[0m\u001b[0mk\u001b[0m\u001b[1;33m)\u001b[0m\u001b[1;33m\u001b[0m\u001b[0m\n\u001b[0m\u001b[1;32m    189\u001b[0m \u001b[1;33m\u001b[0m\u001b[0m\n\u001b[1;32m    190\u001b[0m         \u001b[1;32mif\u001b[0m \u001b[0mcallable\u001b[0m\u001b[1;33m(\u001b[0m\u001b[0marg\u001b[0m\u001b[1;33m)\u001b[0m\u001b[1;33m:\u001b[0m\u001b[1;33m\u001b[0m\u001b[0m\n",
      "\u001b[0;32mD:\\Programs\\lib\\site-packages\\IPython\\core\\magics\\execution.pyc\u001b[0m in \u001b[0;36mtime\u001b[0;34m(self, line, cell, local_ns)\u001b[0m\n\u001b[1;32m   1178\u001b[0m         \u001b[1;32melse\u001b[0m\u001b[1;33m:\u001b[0m\u001b[1;33m\u001b[0m\u001b[0m\n\u001b[1;32m   1179\u001b[0m             \u001b[0mst\u001b[0m \u001b[1;33m=\u001b[0m \u001b[0mclock2\u001b[0m\u001b[1;33m(\u001b[0m\u001b[1;33m)\u001b[0m\u001b[1;33m\u001b[0m\u001b[0m\n\u001b[0;32m-> 1180\u001b[0;31m             \u001b[1;32mexec\u001b[0m\u001b[1;33m(\u001b[0m\u001b[0mcode\u001b[0m\u001b[1;33m,\u001b[0m \u001b[0mglob\u001b[0m\u001b[1;33m,\u001b[0m \u001b[0mlocal_ns\u001b[0m\u001b[1;33m)\u001b[0m\u001b[1;33m\u001b[0m\u001b[0m\n\u001b[0m\u001b[1;32m   1181\u001b[0m             \u001b[0mend\u001b[0m \u001b[1;33m=\u001b[0m \u001b[0mclock2\u001b[0m\u001b[1;33m(\u001b[0m\u001b[1;33m)\u001b[0m\u001b[1;33m\u001b[0m\u001b[0m\n\u001b[1;32m   1182\u001b[0m             \u001b[0mout\u001b[0m \u001b[1;33m=\u001b[0m \u001b[0mNone\u001b[0m\u001b[1;33m\u001b[0m\u001b[0m\n",
      "\u001b[0;32m<timed exec>\u001b[0m in \u001b[0;36m<module>\u001b[0;34m()\u001b[0m\n",
      "\u001b[0;32m<ipython-input-2-9a8df8d650bb>\u001b[0m in \u001b[0;36mfit\u001b[0;34m(self, X_train, y_train, qids_train, queries_train, X_test, y_test, qids_test, queries_test, verbose)\u001b[0m\n\u001b[1;32m     55\u001b[0m                 \u001b[0mqueries\u001b[0m \u001b[1;33m=\u001b[0m \u001b[0mqueries_train\u001b[0m\u001b[1;33m[\u001b[0m\u001b[0msub_idx\u001b[0m\u001b[1;33m]\u001b[0m\u001b[1;33m\u001b[0m\u001b[0m\n\u001b[1;32m     56\u001b[0m             \u001b[1;32melse\u001b[0m\u001b[1;33m:\u001b[0m\u001b[1;33m\u001b[0m\u001b[0m\n\u001b[0;32m---> 57\u001b[0;31m                 \u001b[0mgrad\u001b[0m\u001b[1;33m,\u001b[0m \u001b[0mh\u001b[0m \u001b[1;33m=\u001b[0m \u001b[0mself\u001b[0m\u001b[1;33m.\u001b[0m\u001b[0mloss_grad\u001b[0m\u001b[1;33m(\u001b[0m\u001b[0mpredicted\u001b[0m\u001b[1;33m,\u001b[0m \u001b[0my\u001b[0m\u001b[1;33m,\u001b[0m \u001b[0mid_y\u001b[0m\u001b[1;33m)\u001b[0m\u001b[1;33m\u001b[0m\u001b[0m\n\u001b[0m\u001b[1;32m     58\u001b[0m             \u001b[1;32mif\u001b[0m \u001b[0mverbose\u001b[0m\u001b[1;33m:\u001b[0m\u001b[1;33m\u001b[0m\u001b[0m\n\u001b[1;32m     59\u001b[0m                 \u001b[1;32mprint\u001b[0m \u001b[1;34m\"Grad:\"\u001b[0m\u001b[1;33m\u001b[0m\u001b[0m\n",
      "\u001b[0;32m<ipython-input-2-9a8df8d650bb>\u001b[0m in \u001b[0;36mloss_grad\u001b[0;34m(self, pred_y, y, id_y)\u001b[0m\n\u001b[1;32m    128\u001b[0m                 \u001b[1;32mif\u001b[0m \u001b[0mbuf\u001b[0m \u001b[1;33m!=\u001b[0m \u001b[1;36m0.\u001b[0m\u001b[1;33m:\u001b[0m\u001b[1;33m\u001b[0m\u001b[0m\n\u001b[1;32m    129\u001b[0m                     \u001b[0mgrad\u001b[0m\u001b[1;33m[\u001b[0m\u001b[0mi\u001b[0m\u001b[1;33m]\u001b[0m \u001b[1;33m+=\u001b[0m \u001b[0mdelta_ndcg\u001b[0m \u001b[1;33m*\u001b[0m \u001b[0mbuf\u001b[0m\u001b[1;33m\u001b[0m\u001b[0m\n\u001b[0;32m--> 130\u001b[0;31m                 \u001b[0mh\u001b[0m\u001b[1;33m[\u001b[0m\u001b[0mi\u001b[0m\u001b[1;33m]\u001b[0m \u001b[1;33m+=\u001b[0m \u001b[0mdelta_ndcg\u001b[0m \u001b[1;33m*\u001b[0m \u001b[0mself\u001b[0m\u001b[1;33m.\u001b[0m\u001b[0mrho\u001b[0m\u001b[1;33m(\u001b[0m\u001b[0mpred_y\u001b[0m\u001b[1;33m[\u001b[0m\u001b[0mi\u001b[0m\u001b[1;33m]\u001b[0m\u001b[1;33m,\u001b[0m \u001b[0mpred_y\u001b[0m\u001b[1;33m[\u001b[0m\u001b[0mj\u001b[0m\u001b[1;33m]\u001b[0m\u001b[1;33m)\u001b[0m \u001b[1;33m*\u001b[0m \u001b[1;33m(\u001b[0m\u001b[1;36m1\u001b[0m \u001b[1;33m-\u001b[0m \u001b[0mself\u001b[0m\u001b[1;33m.\u001b[0m\u001b[0mrho\u001b[0m\u001b[1;33m(\u001b[0m\u001b[0mpred_y\u001b[0m\u001b[1;33m[\u001b[0m\u001b[0mi\u001b[0m\u001b[1;33m]\u001b[0m\u001b[1;33m,\u001b[0m \u001b[0mpred_y\u001b[0m\u001b[1;33m[\u001b[0m\u001b[0mj\u001b[0m\u001b[1;33m]\u001b[0m\u001b[1;33m)\u001b[0m\u001b[1;33m)\u001b[0m\u001b[1;33m\u001b[0m\u001b[0m\n\u001b[0m\u001b[1;32m    131\u001b[0m         \u001b[1;32mreturn\u001b[0m \u001b[0mgrad\u001b[0m\u001b[1;33m,\u001b[0m \u001b[0mh\u001b[0m\u001b[1;33m\u001b[0m\u001b[0m\n\u001b[1;32m    132\u001b[0m \u001b[1;33m\u001b[0m\u001b[0m\n",
      "\u001b[0;32m<ipython-input-2-9a8df8d650bb>\u001b[0m in \u001b[0;36mrho\u001b[0;34m(self, a, b)\u001b[0m\n\u001b[1;32m    146\u001b[0m \u001b[1;33m\u001b[0m\u001b[0m\n\u001b[1;32m    147\u001b[0m     \u001b[1;32mdef\u001b[0m \u001b[0mrho\u001b[0m\u001b[1;33m(\u001b[0m\u001b[0mself\u001b[0m\u001b[1;33m,\u001b[0m \u001b[0ma\u001b[0m\u001b[1;33m,\u001b[0m \u001b[0mb\u001b[0m\u001b[1;33m)\u001b[0m\u001b[1;33m:\u001b[0m\u001b[1;33m\u001b[0m\u001b[0m\n\u001b[0;32m--> 148\u001b[0;31m         \u001b[1;32mreturn\u001b[0m \u001b[1;36m1.\u001b[0m \u001b[1;33m/\u001b[0m \u001b[1;33m(\u001b[0m\u001b[1;36m1.\u001b[0m \u001b[1;33m+\u001b[0m \u001b[0mnp\u001b[0m\u001b[1;33m.\u001b[0m\u001b[0mexp\u001b[0m\u001b[1;33m(\u001b[0m\u001b[0ma\u001b[0m \u001b[1;33m-\u001b[0m \u001b[0mb\u001b[0m\u001b[1;33m)\u001b[0m\u001b[1;33m)\u001b[0m\u001b[1;33m\u001b[0m\u001b[0m\n\u001b[0m",
      "\u001b[0;31mKeyboardInterrupt\u001b[0m: "
     ]
    }
   ],
   "source": [
    "%time clf1 = clf1.fit(X_full_train, y_full_train, q_full_train, queries_full_train, X_test, y_test, q_test, queries_test)"
   ]
  },
  {
   "cell_type": "code",
   "execution_count": null,
   "metadata": {
    "collapsed": true
   },
   "outputs": [],
   "source": []
  },
  {
   "cell_type": "code",
   "execution_count": null,
   "metadata": {
    "collapsed": true
   },
   "outputs": [],
   "source": []
  },
  {
   "cell_type": "code",
   "execution_count": null,
   "metadata": {
    "collapsed": true
   },
   "outputs": [],
   "source": []
  },
  {
   "cell_type": "code",
   "execution_count": 31,
   "metadata": {
    "collapsed": false
   },
   "outputs": [
    {
     "name": "stdout",
     "output_type": "stream",
     "text": [
      "0.5 1 0.5 0.336099646865 0.334095124305\n",
      "0.5 1 1.0 0.284810928463 0.336022586491\n",
      "0.5 1 2.0 0.278983133131 0.235084867792\n",
      "0.5 2 0.5 0.41276830698 0.325806649599\n",
      "0.5 2 1.0 0.269452898252 0.219380711384\n",
      "0.5 2 2.0 0.357579678573 0.328906145272\n",
      "0.5 5 0.5 0.360515329939 0.291737452324\n",
      "0.5 5 1.0 0.396132881545 0.352325317071\n",
      "0.5 5 2.0 0.357491363348 0.307072058994\n",
      "0.5 7 0.5 0.307196757893 0.243569464569\n",
      "0.5 7 1.0 0.468726043507 0.381784322914\n",
      "0.5 7 2.0 0.433379695178 0.35421116786\n",
      "1.0 1 0.5 0.298903738381 0.329808291355\n",
      "1.0 1 1.0 0.452061919927 0.348656410939\n",
      "1.0 1 2.0 0.43510791712 0.279133197285\n",
      "1.0 2 0.5 0.298245437817 0.270975813759\n",
      "1.0 2 1.0 0.426176753028 0.298526360796\n",
      "1.0 2 2.0 0.30197343755 0.296332263381\n",
      "1.0 5 0.5 0.444450124696 0.334779000506\n",
      "1.0 5 1.0 0.431277962121 0.373842327464\n",
      "1.0 5 2.0 0.429456655432 0.344643182745\n",
      "1.0 7 0.5 0.438494402494 0.358339454444\n",
      "1.0 7 1.0 0.431007588023 0.367884660402\n",
      "1.0 7 2.0 0.446516329361 0.336559264488\n",
      "2.0 1 0.5 0.259869836501 0.210006019129\n",
      "2.0 1 1.0 0.405543147091 0.281986651447\n",
      "2.0 1 2.0 0.313821884084 0.268496532276\n",
      "2.0 2 0.5 0.458445432413 0.350849454051\n",
      "2.0 2 1.0 0.257580355035 0.30694327258\n",
      "2.0 2 2.0 0.333093525779 0.259259257385\n",
      "2.0 5 0.5 0.34329521534 0.222004082956\n",
      "2.0 5 1.0 0.34956759061 0.263642761974\n",
      "2.0 5 2.0 0.345498792654 0.35035288334\n",
      "2.0 7 0.5 0.442491213356 0.37117135548\n",
      "2.0 7 1.0 0.425625394444 0.319880540672\n",
      "2.0 7 2.0 0.434023061723 0.394820552599\n"
     ]
    }
   ],
   "source": [
    "# Небольшой GridSearch с кросс-валидацией\n",
    "from numpy import unravel_index\n",
    "\n",
    "import warnings\n",
    "warnings.filterwarnings('ignore')\n",
    "\n",
    "arr_a = [0.5, 1., 2.] # Одно значение в целях оптимизации\n",
    "arr_L = [1, 2, 5, 7]\n",
    "arr_b = [0.5, 1., 2.] # Одно значение в целях оптимизации\n",
    "\n",
    "results1 = np.zeros((len(arr_a), len(arr_L), len(arr_b))) # С адаптивным шагом\n",
    "results2 = np.zeros((len(arr_a), len(arr_L), len(arr_b))) # Без адаптивного шага\n",
    "\n",
    "for i_a, a in enumerate(arr_a):\n",
    "    for i_L, L in enumerate(arr_L):\n",
    "        for i_b, b in enumerate(arr_b):\n",
    "            for k in xrange(5):\n",
    "                # Перемешаем\n",
    "                shuffle_idx = np.random.permutation(num_elems)\n",
    "                X_train = X[shuffle_idx][:num_elems/2.]\n",
    "                X_valid = X[shuffle_idx][num_elems/2.:num_elems*3./4.]\n",
    "\n",
    "                y_train = y[shuffle_idx][:num_elems/2.]\n",
    "                y_valid = y[shuffle_idx][num_elems/2.:num_elems*3./4.]\n",
    "\n",
    "                q_train = queries[shuffle_idx][:num_elems/2.]\n",
    "                q_valid = queries[shuffle_idx][num_elems/2.:num_elems*3./4.]\n",
    "\n",
    "                queries_train = q[shuffle_idx][:num_elems/2.]\n",
    "                queries_valid = q[shuffle_idx][num_elems/2.:num_elems*3./4.]\n",
    "                \n",
    "                clf1 = LambdaMART(L, alpha=a, beta=b).fit(X_train, y_train, q_train, queries_train)\n",
    "                y_pred1 = clf1.predict(X_valid, q_valid, queries_valid)\n",
    "                results1[i_a, i_L, i_b] += ndcgl(y_pred1, y_valid) / 5.\n",
    "\n",
    "                clf2 = LambdaMART(L, alpha=a, beta=b, adaptive_step=False).fit(X_train, y_train, q_train, queries_train)\n",
    "                y_pred2 = clf2.predict(X_valid, q_valid, queries_valid)\n",
    "                results2[i_a, i_L, i_b] += ndcgl(y_pred2, y_valid) / 5.\n",
    "\n",
    "                # Значения параметров и результаты с адаптивным шагом и без\n",
    "            print a, L, b, results1[i_a, i_L, i_b], results2[i_a, i_L, i_b]"
   ]
  },
  {
   "cell_type": "code",
   "execution_count": 32,
   "metadata": {
    "collapsed": false
   },
   "outputs": [
    {
     "name": "stdout",
     "output_type": "stream",
     "text": [
      "Max with adaptive step - Alpha=0.5, L=7, beta=1.0\n",
      "Max without adaptive step - Alpha=2.0, L=7, beta=2.0\n",
      "Maximum with adaptive step= 0.468726043507\n",
      "Maximum without adaptive step= 0.394820552599\n"
     ]
    }
   ],
   "source": [
    "ad_max = unravel_index(np.argmax(results1), results1.shape)\n",
    "non_ad_max = unravel_index(np.argmax(results2), results2.shape)\n",
    "        \n",
    "print \"Max with adaptive step - Alpha={}, L={}, beta={}\".format(arr_a[ad_max[0]], arr_L[ad_max[1]], arr_b[ad_max[2]])\n",
    "print \"Max without adaptive step - Alpha={}, L={}, beta={}\".format(arr_a[non_ad_max[0]], arr_L[non_ad_max[1]], arr_b[non_ad_max[2]])\n",
    "\n",
    "print \"Maximum with adaptive step=\", np.max(results1)\n",
    "print \"Maximum without adaptive step=\", np.max(results2)"
   ]
  },
  {
   "cell_type": "markdown",
   "metadata": {
    "collapsed": false
   },
   "source": [
    "В принципе, из списка на всех параметрах видны корреляции для адаптивного и неадаптивного методов. И как правило, увеличение числа итераций хорошо влияет на результат. Можно было продолжить и далее, но в виду ограниченных мощностей, пока это не главное."
   ]
  },
  {
   "cell_type": "code",
   "execution_count": 44,
   "metadata": {
    "collapsed": false
   },
   "outputs": [
    {
     "name": "stdout",
     "output_type": "stream",
     "text": [
      "Adaptive= 0.473884366146\n",
      "Non-adaptive= 0.328375116338\n"
     ]
    }
   ],
   "source": [
    "result1 = 0.\n",
    "result2 = 0.\n",
    "\n",
    "for k in xrange(5):\n",
    "    shuffle_idx = np.random.permutation(num_elems)\n",
    "    X_train = X[shuffle_idx][:num_elems/2.]\n",
    "    X_valid = X[shuffle_idx][num_elems/2.:num_elems*3./4.]\n",
    "    X_test = X[shuffle_idx][num_elems*3./4.:]\n",
    "\n",
    "    y_train = y[shuffle_idx][:num_elems/2.]\n",
    "    y_valid = y[shuffle_idx][num_elems/2.:num_elems*3./4.]\n",
    "    y_test = y[shuffle_idx][num_elems*3./4.:]\n",
    "\n",
    "    q_train = queries[shuffle_idx][:num_elems/2.]\n",
    "    q_valid = queries[shuffle_idx][num_elems/2.:num_elems*3./4.]\n",
    "    q_test = queries[shuffle_idx][num_elems*3./4.:]\n",
    "\n",
    "    queries_train = q[shuffle_idx][:num_elems/2.]\n",
    "    queries_valid = q[shuffle_idx][num_elems/2.:num_elems*3./4.]\n",
    "    queries_test = q[shuffle_idx][num_elems*3./4.:]\n",
    "    \n",
    "    X_full_train = np.append(X_train, X_valid, axis=0)\n",
    "    y_full_train = np.append(y_train, y_valid)\n",
    "    q_full_train = np.append(q_train, q_valid)\n",
    "    queries_full_train = np.append(queries_train, queries_valid, axis=0)\n",
    "    \n",
    "    clf1 = LambdaMART(7, alpha=0.5, beta=1.).fit(X_full_train, y_full_train, q_full_train, queries_full_train)\n",
    "    y_pred1 = clf1.predict(X_test, q_test, queries_test)\n",
    "\n",
    "    clf2 = LambdaMART(7, alpha=2.0, beta=2.0, adaptive_step=False).fit(X_full_train, y_full_train, q_full_train, queries_full_train)\n",
    "    y_pred2 = clf2.predict(X_test, q_test, queries_test)\n",
    "    \n",
    "    result1 += ndcgl(y_pred1, y_test) / 5.\n",
    "    result2 += ndcgl(y_pred2, y_test) / 5.\n",
    "\n",
    "print \"Adaptive=\", result1\n",
    "print \"Non-adaptive=\", result2"
   ]
  },
  {
   "cell_type": "code",
   "execution_count": 34,
   "metadata": {
    "collapsed": false
   },
   "outputs": [
    {
     "name": "stdout",
     "output_type": "stream",
     "text": [
      "0.349995209906\n"
     ]
    }
   ],
   "source": [
    "# Обычный DecisionTreeRegressor\n",
    "tempresult = 0.\n",
    "\n",
    "for k in xrange(5):\n",
    "    shuffle_idx = np.random.permutation(num_elems)\n",
    "    X_train = X[shuffle_idx][:num_elems/2.]\n",
    "    X_valid = X[shuffle_idx][num_elems/2.:num_elems*3./4.]\n",
    "    X_test = X[shuffle_idx][num_elems*3./4.:]\n",
    "\n",
    "    y_train = y[shuffle_idx][:num_elems/2.]\n",
    "    y_valid = y[shuffle_idx][num_elems/2.:num_elems*3./4.]\n",
    "    y_test = y[shuffle_idx][num_elems*3./4.:]\n",
    "    \n",
    "    X_full_train = np.append(X_train, X_valid, axis=0)\n",
    "    y_full_train = np.append(y_train, y_valid)\n",
    "\n",
    "    tempclf = DecisionTreeRegressor().fit(X_full_train, y_full_train)\n",
    "    tempresult += ndcgl(tempclf.predict(X_test), y_test) / 5.\n",
    "    \n",
    "print tempresult"
   ]
  },
  {
   "cell_type": "code",
   "execution_count": 43,
   "metadata": {
    "collapsed": false
   },
   "outputs": [
    {
     "name": "stdout",
     "output_type": "stream",
     "text": [
      "0.424421739725\n"
     ]
    }
   ],
   "source": [
    "# GDBT\n",
    "from sklearn.ensemble import GradientBoostingRegressor\n",
    "\n",
    "tempresult = 0.\n",
    "\n",
    "for k in xrange(5):\n",
    "    shuffle_idx = np.random.permutation(num_elems)\n",
    "    X_train = X[shuffle_idx][:num_elems/2.]\n",
    "    X_valid = X[shuffle_idx][num_elems/2.:num_elems*3./4.]\n",
    "    X_test = X[shuffle_idx][num_elems*3./4.:]\n",
    "\n",
    "    y_train = y[shuffle_idx][:num_elems/2.]\n",
    "    y_valid = y[shuffle_idx][num_elems/2.:num_elems*3./4.]\n",
    "    y_test = y[shuffle_idx][num_elems*3./4.:]\n",
    "    \n",
    "    X_full_train = np.append(X_train, X_valid, axis=0)\n",
    "    y_full_train = np.append(y_train, y_valid)\n",
    "\n",
    "    tempclf = GradientBoostingRegressor().fit(X_full_train, y_full_train)\n",
    "    tempresult += ndcgl(tempclf.predict(X_test), y_test) / 5.\n",
    "    \n",
    "print tempresult"
   ]
  },
  {
   "cell_type": "markdown",
   "metadata": {},
   "source": [
    "### LambdaMART из XGBoost"
   ]
  },
  {
   "cell_type": "code",
   "execution_count": 30,
   "metadata": {
    "collapsed": true
   },
   "outputs": [],
   "source": [
    "# Необходимые технические строки. Исполняйте их в случае ошибки WindowsError Error 127. \n",
    "# Путь заменить на своё расположение mingw-64\n",
    "dir = r'C:\\Program Files\\mingw-w64\\x86_64-6.2.0-posix-seh-rt_v5-rev1\\mingw64\\bin'\n",
    "import os\n",
    "\n",
    "os.environ['PATH'].find(dir)\n",
    "os.environ['PATH'] = dir + ';' + os.environ['PATH']"
   ]
  },
  {
   "cell_type": "code",
   "execution_count": 31,
   "metadata": {
    "collapsed": false
   },
   "outputs": [],
   "source": [
    "import xgboost as xgb"
   ]
  },
  {
   "cell_type": "code",
   "execution_count": 32,
   "metadata": {
    "collapsed": false
   },
   "outputs": [
    {
     "name": "stdout",
     "output_type": "stream",
     "text": [
      "0.147214344763\n",
      "0.410943681227\n"
     ]
    }
   ],
   "source": [
    "clf_temp = xgb.XGBClassifier(objective='rank:ndcg')\n",
    "clf_temp.fit(X_train, y_train)\n",
    "print ndcgl(clf_temp.predict(X_test), y_test, q_test)\n",
    "print ndcgl(clf_temp.predict(X_train), y_train, q_train)"
   ]
  },
  {
   "cell_type": "code",
   "execution_count": 40,
   "metadata": {
    "collapsed": false
   },
   "outputs": [
    {
     "name": "stdout",
     "output_type": "stream",
     "text": [
      "0.434840804088\n"
     ]
    }
   ],
   "source": [
    "tempresult = 0.\n",
    "\n",
    "for k in xrange(5):\n",
    "    shuffle_idx = np.random.permutation(num_elems)\n",
    "    X_train = X[shuffle_idx][:num_elems/2.]\n",
    "    X_valid = X[shuffle_idx][num_elems/2.:num_elems*3./4.]\n",
    "    X_test = X[shuffle_idx][num_elems*3./4.:]\n",
    "\n",
    "    y_train = y[shuffle_idx][:num_elems/2.]\n",
    "    y_valid = y[shuffle_idx][num_elems/2.:num_elems*3./4.]\n",
    "    y_test = y[shuffle_idx][num_elems*3./4.:]\n",
    "    \n",
    "    X_full_train = np.append(X_train, X_valid, axis=0)\n",
    "    y_full_train = np.append(y_train, y_valid)\n",
    "    \n",
    "    clf = xgb.XGBClassifier(objective='rank:ndcg')\n",
    "    clf.fit(X_full_train,y_full_train)\n",
    "    tempresult += ndcgl(clf.predict(X_test), y_test) / 5.\n",
    "    \n",
    "print tempresult"
   ]
  },
  {
   "cell_type": "markdown",
   "metadata": {},
   "source": [
    "### Работа на 4000 элементах, 70 итераций бустинга"
   ]
  },
  {
   "cell_type": "code",
   "execution_count": 8,
   "metadata": {
    "collapsed": true
   },
   "outputs": [],
   "source": [
    "import warnings\n",
    "warnings.filterwarnings('ignore')"
   ]
  },
  {
   "cell_type": "code",
   "execution_count": 10,
   "metadata": {
    "collapsed": false
   },
   "outputs": [
    {
     "name": "stdout",
     "output_type": "stream",
     "text": [
      "Iteration # 0\n",
      "Iteration # 1\n",
      "Iteration # 2\n",
      "Iteration # 3\n",
      "Iteration # 4\n",
      "Iteration # 5\n",
      "Iteration # 6\n",
      "Iteration # 7\n",
      "Iteration # 8\n",
      "Iteration # 9\n",
      "Iteration # 10\n",
      "Iteration # 11\n",
      "Iteration # 12\n",
      "Iteration # 13\n",
      "Iteration # 14\n",
      "Iteration # 15\n",
      "Iteration # 16\n",
      "Iteration # 17\n",
      "Iteration # 18\n",
      "Iteration # 19\n",
      "Iteration # 20\n",
      "Iteration # 21\n",
      "Iteration # 22\n",
      "Iteration # 23\n",
      "Iteration # 24\n",
      "Iteration # 25\n",
      "Iteration # 26\n",
      "Iteration # 27\n",
      "Iteration # 28\n",
      "Iteration # 29\n",
      "Iteration # 30\n",
      "Iteration # 31\n",
      "Iteration # 32\n",
      "Iteration # 33\n",
      "Iteration # 34\n",
      "Iteration # 35\n",
      "Iteration # 36\n",
      "Iteration # 37\n",
      "Iteration # 38\n",
      "Iteration # 39\n",
      "Iteration # 40\n",
      "Iteration # 41\n",
      "Iteration # 42\n",
      "Iteration # 43\n",
      "Iteration # 44\n",
      "Iteration # 45\n",
      "Iteration # 46\n",
      "Iteration # 47\n",
      "Iteration # 48\n",
      "Iteration # 49\n",
      "Iteration # 50\n",
      "Iteration # 51\n",
      "Iteration # 52\n",
      "Iteration # 53\n",
      "Iteration # 54\n",
      "Iteration # 55\n",
      "Iteration # 56\n",
      "Iteration # 57\n",
      "Iteration # 58\n",
      "Iteration # 59\n",
      "Iteration # 60\n",
      "Iteration # 61\n",
      "Iteration # 62\n",
      "Iteration # 63\n",
      "Iteration # 64\n",
      "Iteration # 65\n",
      "Iteration # 66\n",
      "Iteration # 67\n",
      "Iteration # 68\n",
      "Iteration # 69\n",
      "Wall time: 3h 41min 39s\n"
     ]
    }
   ],
   "source": [
    "shuffle_idx = np.random.permutation(num_elems)\n",
    "X_train = X[shuffle_idx][:num_elems/2.]\n",
    "X_valid = X[shuffle_idx][num_elems/2.:num_elems*3./4.]\n",
    "X_test = X[shuffle_idx][num_elems*3./4.:]\n",
    "\n",
    "y_train = y[shuffle_idx][:num_elems/2.]\n",
    "y_valid = y[shuffle_idx][num_elems/2.:num_elems*3./4.]\n",
    "y_test = y[shuffle_idx][num_elems*3./4.:]\n",
    "\n",
    "q_train = queries[shuffle_idx][:num_elems/2.]\n",
    "q_valid = queries[shuffle_idx][num_elems/2.:num_elems*3./4.]\n",
    "q_test = queries[shuffle_idx][num_elems*3./4.:]\n",
    "\n",
    "queries_train = q[shuffle_idx][:num_elems/2.]\n",
    "queries_valid = q[shuffle_idx][num_elems/2.:num_elems*3./4.]\n",
    "queries_test = q[shuffle_idx][num_elems*3./4.:]\n",
    "\n",
    "X_full_train = np.append(X_train, X_valid, axis=0)\n",
    "y_full_train = np.append(y_train, y_valid)\n",
    "q_full_train = np.append(q_train, q_valid)\n",
    "queries_full_train = np.append(queries_train, queries_valid, axis=0)\n",
    "\n",
    "%time clf_big = LambdaMART(70, alpha=0.5, beta=1., ).fit(X_full_train, y_full_train, q_full_train, queries_full_train)\n",
    "#y_pred1 = clf1.predict(X_test, q_test, queries_test)"
   ]
  },
  {
   "cell_type": "code",
   "execution_count": 12,
   "metadata": {
    "collapsed": false
   },
   "outputs": [
    {
     "name": "stdout",
     "output_type": "stream",
     "text": [
      "0.896477581668\n"
     ]
    }
   ],
   "source": [
    "y_pred_big = clf_big.predict(X_test, q_test, queries_test)\n",
    "print ndcgl(y_pred_big, y_test)"
   ]
  },
  {
   "cell_type": "code",
   "execution_count": 16,
   "metadata": {
    "collapsed": false
   },
   "outputs": [
    {
     "name": "stdout",
     "output_type": "stream",
     "text": [
      "0.733113475428\n"
     ]
    }
   ],
   "source": [
    "# xgboost\n",
    "clf = xgb.XGBClassifier(objective='rank:ndcg')\n",
    "clf.fit(X_full_train,y_full_train)\n",
    "print ndcgl(clf.predict(X_test), y_test)"
   ]
  },
  {
   "cell_type": "markdown",
   "metadata": {
    "collapsed": true
   },
   "source": [
    "### Проверка случайного выбора фичей"
   ]
  },
  {
   "cell_type": "code",
   "execution_count": 7,
   "metadata": {
    "collapsed": false
   },
   "outputs": [
    {
     "name": "stdout",
     "output_type": "stream",
     "text": [
      "10\n",
      "Without subset 0.589559508361\n",
      "With subset 0.525202845018\n",
      "Stochastic 0.465555208682\n",
      "40\n",
      "Without subset 0.670012899467\n",
      "With subset 0.851643743565\n",
      "Stochastic 0.79434887815\n",
      "70\n",
      "Without subset 0.595825485951\n",
      "With subset 0.837945450273\n",
      "Stochastic 0.732566107838\n",
      "100\n",
      "Without subset 0.625597894605\n",
      "With subset 0.805930029937\n",
      "Stochastic 0.621950881675\n",
      "130\n",
      "Without subset 0.635118472228\n",
      "With subset 0.838777861945\n",
      "Stochastic 0.646343802709\n",
      "160\n"
     ]
    },
    {
     "ename": "KeyboardInterrupt",
     "evalue": "",
     "output_type": "error",
     "traceback": [
      "\u001b[1;31m---------------------------------------------------------------------------\u001b[0m",
      "\u001b[1;31mKeyboardInterrupt\u001b[0m                         Traceback (most recent call last)",
      "\u001b[1;32m<ipython-input-7-ea5e83d9c0ab>\u001b[0m in \u001b[0;36m<module>\u001b[1;34m()\u001b[0m\n\u001b[0;32m     27\u001b[0m \u001b[1;33m\u001b[0m\u001b[0m\n\u001b[0;32m     28\u001b[0m     \u001b[0mclf1\u001b[0m \u001b[1;33m=\u001b[0m \u001b[0mLambdaMART\u001b[0m\u001b[1;33m(\u001b[0m\u001b[0mn\u001b[0m\u001b[1;33m,\u001b[0m \u001b[0malpha\u001b[0m\u001b[1;33m=\u001b[0m\u001b[1;36m0.5\u001b[0m\u001b[1;33m,\u001b[0m \u001b[0mbeta\u001b[0m\u001b[1;33m=\u001b[0m\u001b[1;36m1.\u001b[0m\u001b[1;33m)\u001b[0m\u001b[1;33m.\u001b[0m\u001b[0mfit\u001b[0m\u001b[1;33m(\u001b[0m\u001b[0mX_full_train\u001b[0m\u001b[1;33m,\u001b[0m \u001b[0my_full_train\u001b[0m\u001b[1;33m,\u001b[0m \u001b[0mq_full_train\u001b[0m\u001b[1;33m,\u001b[0m \u001b[0mqueries_full_train\u001b[0m\u001b[1;33m)\u001b[0m\u001b[1;33m\u001b[0m\u001b[0m\n\u001b[1;32m---> 29\u001b[1;33m     \u001b[0mclf2\u001b[0m \u001b[1;33m=\u001b[0m \u001b[0mLambdaMART\u001b[0m\u001b[1;33m(\u001b[0m\u001b[0mn\u001b[0m\u001b[1;33m,\u001b[0m \u001b[0malpha\u001b[0m\u001b[1;33m=\u001b[0m\u001b[1;36m0.5\u001b[0m\u001b[1;33m,\u001b[0m \u001b[0mbeta\u001b[0m\u001b[1;33m=\u001b[0m\u001b[1;36m1.\u001b[0m\u001b[1;33m,\u001b[0m \u001b[0mfeature_subset\u001b[0m\u001b[1;33m=\u001b[0m\u001b[0mTrue\u001b[0m\u001b[1;33m,\u001b[0m \u001b[0mfeature_fraction\u001b[0m\u001b[1;33m=\u001b[0m\u001b[1;36m0.3\u001b[0m\u001b[1;33m)\u001b[0m\u001b[1;33m.\u001b[0m\u001b[0mfit\u001b[0m\u001b[1;33m(\u001b[0m\u001b[0mX_full_train\u001b[0m\u001b[1;33m,\u001b[0m \u001b[0my_full_train\u001b[0m\u001b[1;33m,\u001b[0m \u001b[0mq_full_train\u001b[0m\u001b[1;33m,\u001b[0m \u001b[0mqueries_full_train\u001b[0m\u001b[1;33m)\u001b[0m\u001b[1;33m\u001b[0m\u001b[0m\n\u001b[0m\u001b[0;32m     30\u001b[0m     \u001b[0mclf3\u001b[0m \u001b[1;33m=\u001b[0m \u001b[0mLambdaMART\u001b[0m\u001b[1;33m(\u001b[0m\u001b[0mn\u001b[0m\u001b[1;33m,\u001b[0m \u001b[0malpha\u001b[0m\u001b[1;33m=\u001b[0m\u001b[1;36m0.5\u001b[0m\u001b[1;33m,\u001b[0m \u001b[0mbeta\u001b[0m\u001b[1;33m=\u001b[0m\u001b[1;36m1.\u001b[0m\u001b[1;33m,\u001b[0m \u001b[0mfeature_subset\u001b[0m\u001b[1;33m=\u001b[0m\u001b[0mTrue\u001b[0m\u001b[1;33m,\u001b[0m \u001b[0mfeature_fraction\u001b[0m\u001b[1;33m=\u001b[0m\u001b[1;36m0.3\u001b[0m\u001b[1;33m,\u001b[0m                       \u001b[0mstochastic\u001b[0m\u001b[1;33m=\u001b[0m\u001b[0mTrue\u001b[0m\u001b[1;33m)\u001b[0m\u001b[1;33m.\u001b[0m\u001b[0mfit\u001b[0m\u001b[1;33m(\u001b[0m\u001b[0mX_full_train\u001b[0m\u001b[1;33m,\u001b[0m \u001b[0my_full_train\u001b[0m\u001b[1;33m,\u001b[0m \u001b[0mq_full_train\u001b[0m\u001b[1;33m,\u001b[0m \u001b[0mqueries_full_train\u001b[0m\u001b[1;33m)\u001b[0m\u001b[1;33m\u001b[0m\u001b[0m\n\u001b[0;32m     31\u001b[0m \u001b[1;33m\u001b[0m\u001b[0m\n",
      "\u001b[1;32m<ipython-input-3-6943b8d58004>\u001b[0m in \u001b[0;36mfit\u001b[1;34m(self, X_train, y_train, qids_train, queries_train, verbose)\u001b[0m\n\u001b[0;32m     52\u001b[0m                 \u001b[0mqueries\u001b[0m \u001b[1;33m=\u001b[0m \u001b[0mqueries_train\u001b[0m\u001b[1;33m[\u001b[0m\u001b[0msub_idx\u001b[0m\u001b[1;33m]\u001b[0m\u001b[1;33m\u001b[0m\u001b[0m\n\u001b[0;32m     53\u001b[0m             \u001b[1;32melse\u001b[0m\u001b[1;33m:\u001b[0m\u001b[1;33m\u001b[0m\u001b[0m\n\u001b[1;32m---> 54\u001b[1;33m                 \u001b[0mgrad\u001b[0m\u001b[1;33m,\u001b[0m \u001b[0mh\u001b[0m \u001b[1;33m=\u001b[0m \u001b[0mself\u001b[0m\u001b[1;33m.\u001b[0m\u001b[0mloss_grad\u001b[0m\u001b[1;33m(\u001b[0m\u001b[0mpredicted\u001b[0m\u001b[1;33m,\u001b[0m \u001b[0my\u001b[0m\u001b[1;33m,\u001b[0m \u001b[0mid_y\u001b[0m\u001b[1;33m)\u001b[0m\u001b[1;33m\u001b[0m\u001b[0m\n\u001b[0m\u001b[0;32m     55\u001b[0m             \u001b[1;32mif\u001b[0m \u001b[0mverbose\u001b[0m\u001b[1;33m:\u001b[0m\u001b[1;33m\u001b[0m\u001b[0m\n\u001b[0;32m     56\u001b[0m                 \u001b[1;32mprint\u001b[0m \u001b[1;34m\"Grad:\"\u001b[0m\u001b[1;33m\u001b[0m\u001b[0m\n",
      "\u001b[1;32m<ipython-input-3-6943b8d58004>\u001b[0m in \u001b[0;36mloss_grad\u001b[1;34m(self, pred_y, y, id_y)\u001b[0m\n\u001b[0;32m    118\u001b[0m             \u001b[1;32mfor\u001b[0m \u001b[0mj\u001b[0m \u001b[1;32min\u001b[0m \u001b[0mxrange\u001b[0m\u001b[1;33m(\u001b[0m\u001b[0mn_elems\u001b[0m\u001b[1;33m)\u001b[0m\u001b[1;33m:\u001b[0m\u001b[1;33m\u001b[0m\u001b[0m\n\u001b[0;32m    119\u001b[0m                 \u001b[0mbuf\u001b[0m \u001b[1;33m=\u001b[0m \u001b[1;36m0.\u001b[0m\u001b[1;33m\u001b[0m\u001b[0m\n\u001b[1;32m--> 120\u001b[1;33m                 \u001b[0mdelta_ndcg\u001b[0m \u001b[1;33m=\u001b[0m \u001b[0mnp\u001b[0m\u001b[1;33m.\u001b[0m\u001b[0mabs\u001b[0m\u001b[1;33m(\u001b[0m\u001b[0mself\u001b[0m\u001b[1;33m.\u001b[0m\u001b[0mndcg_replace\u001b[0m\u001b[1;33m(\u001b[0m\u001b[0my\u001b[0m\u001b[1;33m[\u001b[0m\u001b[0mi\u001b[0m\u001b[1;33m]\u001b[0m\u001b[1;33m,\u001b[0m \u001b[0my\u001b[0m\u001b[1;33m[\u001b[0m\u001b[0mj\u001b[0m\u001b[1;33m]\u001b[0m\u001b[1;33m,\u001b[0m \u001b[0mid_y\u001b[0m\u001b[1;33m[\u001b[0m\u001b[0mi\u001b[0m\u001b[1;33m]\u001b[0m\u001b[1;33m,\u001b[0m \u001b[0mid_y\u001b[0m\u001b[1;33m[\u001b[0m\u001b[0mj\u001b[0m\u001b[1;33m]\u001b[0m\u001b[1;33m)\u001b[0m\u001b[1;33m)\u001b[0m\u001b[1;33m\u001b[0m\u001b[0m\n\u001b[0m\u001b[0;32m    121\u001b[0m                 \u001b[1;32mif\u001b[0m \u001b[0my\u001b[0m\u001b[1;33m[\u001b[0m\u001b[0mi\u001b[0m\u001b[1;33m]\u001b[0m \u001b[1;33m>\u001b[0m \u001b[0my\u001b[0m\u001b[1;33m[\u001b[0m\u001b[0mj\u001b[0m\u001b[1;33m]\u001b[0m\u001b[1;33m:\u001b[0m\u001b[1;33m\u001b[0m\u001b[0m\n\u001b[0;32m    122\u001b[0m                     \u001b[0mbuf\u001b[0m \u001b[1;33m=\u001b[0m \u001b[1;33m-\u001b[0m\u001b[0mself\u001b[0m\u001b[1;33m.\u001b[0m\u001b[0mrho\u001b[0m\u001b[1;33m(\u001b[0m\u001b[0mpred_y\u001b[0m\u001b[1;33m[\u001b[0m\u001b[0mi\u001b[0m\u001b[1;33m]\u001b[0m\u001b[1;33m,\u001b[0m \u001b[0mpred_y\u001b[0m\u001b[1;33m[\u001b[0m\u001b[0mj\u001b[0m\u001b[1;33m]\u001b[0m\u001b[1;33m)\u001b[0m\u001b[1;33m\u001b[0m\u001b[0m\n",
      "\u001b[1;32m<ipython-input-3-6943b8d58004>\u001b[0m in \u001b[0;36mndcg_replace\u001b[1;34m(self, value_a, value_b, id_a, id_b)\u001b[0m\n\u001b[0;32m    140\u001b[0m \u001b[1;33m\u001b[0m\u001b[0m\n\u001b[0;32m    141\u001b[0m     \u001b[1;32mdef\u001b[0m \u001b[0mndcg_replace\u001b[0m\u001b[1;33m(\u001b[0m\u001b[0mself\u001b[0m\u001b[1;33m,\u001b[0m \u001b[0mvalue_a\u001b[0m\u001b[1;33m,\u001b[0m \u001b[0mvalue_b\u001b[0m\u001b[1;33m,\u001b[0m \u001b[0mid_a\u001b[0m\u001b[1;33m,\u001b[0m \u001b[0mid_b\u001b[0m\u001b[1;33m)\u001b[0m\u001b[1;33m:\u001b[0m\u001b[1;33m\u001b[0m\u001b[0m\n\u001b[1;32m--> 142\u001b[1;33m         \u001b[1;32mreturn\u001b[0m \u001b[1;33m(\u001b[0m\u001b[1;36m2.\u001b[0m \u001b[1;33m**\u001b[0m \u001b[0mvalue_b\u001b[0m \u001b[1;33m-\u001b[0m \u001b[1;36m2.\u001b[0m \u001b[1;33m**\u001b[0m \u001b[0mvalue_a\u001b[0m\u001b[1;33m)\u001b[0m \u001b[1;33m*\u001b[0m \u001b[1;33m(\u001b[0m\u001b[1;36m1.\u001b[0m\u001b[1;33m/\u001b[0m \u001b[0mnp\u001b[0m\u001b[1;33m.\u001b[0m\u001b[0mlog2\u001b[0m\u001b[1;33m(\u001b[0m\u001b[1;36m2\u001b[0m \u001b[1;33m+\u001b[0m \u001b[0mid_a\u001b[0m\u001b[1;33m)\u001b[0m \u001b[1;33m-\u001b[0m \u001b[1;36m1.\u001b[0m\u001b[1;33m/\u001b[0m \u001b[0mnp\u001b[0m\u001b[1;33m.\u001b[0m\u001b[0mlog2\u001b[0m\u001b[1;33m(\u001b[0m\u001b[1;36m2\u001b[0m \u001b[1;33m+\u001b[0m \u001b[0mid_b\u001b[0m\u001b[1;33m)\u001b[0m\u001b[1;33m)\u001b[0m\u001b[1;33m\u001b[0m\u001b[0m\n\u001b[0m\u001b[0;32m    143\u001b[0m \u001b[1;33m\u001b[0m\u001b[0m\n\u001b[0;32m    144\u001b[0m     \u001b[1;32mdef\u001b[0m \u001b[0mrho\u001b[0m\u001b[1;33m(\u001b[0m\u001b[0mself\u001b[0m\u001b[1;33m,\u001b[0m \u001b[0ma\u001b[0m\u001b[1;33m,\u001b[0m \u001b[0mb\u001b[0m\u001b[1;33m)\u001b[0m\u001b[1;33m:\u001b[0m\u001b[1;33m\u001b[0m\u001b[0m\n",
      "\u001b[1;31mKeyboardInterrupt\u001b[0m: "
     ]
    }
   ],
   "source": [
    "shuffle_idx = np.random.permutation(num_elems)\n",
    "X_train = X[shuffle_idx][:num_elems/2.]\n",
    "X_valid = X[shuffle_idx][num_elems/2.:num_elems*3./4.]\n",
    "X_test = X[shuffle_idx][num_elems*3./4.:]\n",
    "\n",
    "y_train = y[shuffle_idx][:num_elems/2.]\n",
    "y_valid = y[shuffle_idx][num_elems/2.:num_elems*3./4.]\n",
    "y_test = y[shuffle_idx][num_elems*3./4.:]\n",
    "\n",
    "q_train = queries[shuffle_idx][:num_elems/2.]\n",
    "q_valid = queries[shuffle_idx][num_elems/2.:num_elems*3./4.]\n",
    "q_test = queries[shuffle_idx][num_elems*3./4.:]\n",
    "\n",
    "queries_train = q[shuffle_idx][:num_elems/2.]\n",
    "queries_valid = q[shuffle_idx][num_elems/2.:num_elems*3./4.]\n",
    "queries_test = q[shuffle_idx][num_elems*3./4.:]\n",
    "\n",
    "X_full_train = np.append(X_train, X_valid, axis=0)\n",
    "y_full_train = np.append(y_train, y_valid)\n",
    "q_full_train = np.append(q_train, q_valid)\n",
    "queries_full_train = np.append(queries_train, queries_valid, axis=0)\n",
    "\n",
    "results = []\n",
    "\n",
    "for n in xrange(10, 600, 30):\n",
    "    print n\n",
    "\n",
    "    clf1 = LambdaMART(n, alpha=0.5, beta=1.).fit(X_full_train, y_full_train, q_full_train, queries_full_train)\n",
    "    clf2 = LambdaMART(n, alpha=0.5, beta=1., feature_subset=True, feature_fraction=0.3).fit(X_full_train, y_full_train, q_full_train, queries_full_train)\n",
    "    clf3 = LambdaMART(n, alpha=0.5, beta=1., feature_subset=True, feature_fraction=0.3, \\\n",
    "                      stochastic=True).fit(X_full_train, y_full_train, q_full_train, queries_full_train)\n",
    "    \n",
    "    result1 = ndcgl(clf1.predict(X_test, q_test, queries_test), y_test)\n",
    "    result2 = ndcgl(clf2.predict(X_test, q_test, queries_test), y_test)\n",
    "    result3 = ndcgl(clf3.predict(X_test, q_test, queries_test), y_test)\n",
    "    results.append((result1, result2, result3))\n",
    "    \n",
    "    print \"Without subset\", result1\n",
    "    print \"With subset\", result2\n",
    "    print \"Stochastic\", result3"
   ]
  },
  {
   "cell_type": "code",
   "execution_count": 14,
   "metadata": {
    "collapsed": false
   },
   "outputs": [
    {
     "name": "stdout",
     "output_type": "stream",
     "text": [
      "0.619296498687\n",
      "0.446995121205\n"
     ]
    }
   ],
   "source": [
    "print ndcgl(clf1.predict(X_test, q_test, queries_test), y_test)\n",
    "print ndcgl(clf2.predict(X_test, q_test, queries_test), y_test)"
   ]
  },
  {
   "cell_type": "code",
   "execution_count": 9,
   "metadata": {
    "collapsed": false
   },
   "outputs": [
    {
     "data": {
      "text/plain": [
       "[(0.58955950836136284, 0.52520284501832992, 0.46555520868212591),\n",
       " (0.67001289946652387, 0.85164374356483075, 0.79434887815035293),\n",
       " (0.59582548595062079, 0.83794545027274325, 0.73256610783800979),\n",
       " (0.62559789460458759, 0.80593002993736984, 0.6219508816753645),\n",
       " (0.63511847222811579, 0.83877786194521575, 0.64634380270875258)]"
      ]
     },
     "execution_count": 9,
     "metadata": {},
     "output_type": "execute_result"
    }
   ],
   "source": [
    "results"
   ]
  },
  {
   "cell_type": "code",
   "execution_count": null,
   "metadata": {
    "collapsed": true
   },
   "outputs": [],
   "source": []
  }
 ],
 "metadata": {
  "kernelspec": {
   "display_name": "Python 2",
   "language": "python",
   "name": "python2"
  },
  "language_info": {
   "codemirror_mode": {
    "name": "ipython",
    "version": 2
   },
   "file_extension": ".py",
   "mimetype": "text/x-python",
   "name": "python",
   "nbconvert_exporter": "python",
   "pygments_lexer": "ipython2",
   "version": "2.7.11"
  }
 },
 "nbformat": 4,
 "nbformat_minor": 0
}
